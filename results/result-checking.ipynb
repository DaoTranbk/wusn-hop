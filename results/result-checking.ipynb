{
 "cells": [
  {
   "cell_type": "code",
   "execution_count": 1,
   "metadata": {},
   "outputs": [],
   "source": [
    "import os"
   ]
  },
  {
   "cell_type": "code",
   "execution_count": 9,
   "metadata": {},
   "outputs": [
    {
     "name": "stdout",
     "output_type": "stream",
     "text": [
      "uu-dem3_r50_1_0_1.txt no-dem5_r25_1_0_1.txt no-dem2_r25_1_0_1.txt ga-dem8_r25_1_0_1.txt uu-dem10_r25_1_40_0.txt uu-dem10_r25_1_40_1.txt uu-dem1_r25_1_0_1.txt no-dem8_r25_1_0_1.txt uu-dem2_r25_1_0_1.txt uu-dem6_r25_1_0_1.txt uu-dem10_r25_1_0_1.txt uu-dem5_r25_1_40_0.txt uu-dem8_r50_1_0_1.txt uu-dem5_r25_1_40_1.txt uu-dem2_r25_1_40_0.txt uu-dem2_r25_1_40_1.txt ga-dem3_r25_1_0_1.txt uu-dem3_r25_1_40_1.txt uu-dem3_r25_1_40_0.txt uu-dem4_r25_1_40_1.txt uu-dem5_r50_1_0_1.txt uu-dem6_r25_1_40_1.txt uu-dem6_r25_1_40_0.txt uu-dem1_r25_1_40_1.txt uu-dem9_r25_1_40_0.txt ga-dem9_r25_1_0_1.txt uu-dem9_r25_1_40_1.txt uu-dem1_r25_1_40_0.txt uu-dem8_r25_1_40_1.txt uu-dem8_r25_1_40_0.txt uu-dem7_r25_1_40_0.txt uu-dem7_r25_1_40_1.txt "
     ]
    }
   ],
   "source": [
    "for i in os.listdir('small/hop'):\n",
    "    lines = open(os.path.join('small/hop', i)).readlines()\n",
    "    if len(lines) < 201:\n",
    "        print(i, end=' ')\n",
    "#     print(len(lines))"
   ]
  },
  {
   "cell_type": "code",
   "execution_count": 10,
   "metadata": {},
   "outputs": [],
   "source": [
    "a = 'uu-dem3_r50_1_0_1.txt no-dem5_r25_1_0_1.txt no-dem2_r25_1_0_1.txt ga-dem8_r25_1_0_1.txt uu-dem10_r25_1_40_0.txt uu-dem10_r25_1_40_1.txt uu-dem1_r25_1_0_1.txt no-dem8_r25_1_0_1.txt uu-dem2_r25_1_0_1.txt uu-dem6_r25_1_0_1.txt uu-dem10_r25_1_0_1.txt uu-dem5_r25_1_40_0.txt uu-dem8_r50_1_0_1.txt uu-dem5_r25_1_40_1.txt uu-dem2_r25_1_40_0.txt uu-dem2_r25_1_40_1.txt ga-dem3_r25_1_0_1.txt uu-dem3_r25_1_40_1.txt uu-dem3_r25_1_40_0.txt uu-dem4_r25_1_40_1.txt uu-dem5_r50_1_0_1.txt uu-dem6_r25_1_40_1.txt uu-dem6_r25_1_40_0.txt uu-dem1_r25_1_40_1.txt uu-dem9_r25_1_40_0.txt ga-dem9_r25_1_0_1.txt uu-dem9_r25_1_40_1.txt uu-dem1_r25_1_40_0.txt uu-dem8_r25_1_40_1.txt uu-dem8_r25_1_40_0.txt uu-dem7_r25_1_40_0.txt uu-dem7_r25_1_40_1.txt'.split(' ')"
   ]
  },
  {
   "cell_type": "code",
   "execution_count": 11,
   "metadata": {},
   "outputs": [
    {
     "data": {
      "text/plain": [
       "32"
      ]
     },
     "execution_count": 11,
     "metadata": {},
     "output_type": "execute_result"
    }
   ],
   "source": [
    "len(a)"
   ]
  },
  {
   "cell_type": "code",
   "execution_count": null,
   "metadata": {},
   "outputs": [],
   "source": []
  }
 ],
 "metadata": {
  "kernelspec": {
   "display_name": "Python 3",
   "language": "python",
   "name": "python3"
  },
  "language_info": {
   "codemirror_mode": {
    "name": "ipython",
    "version": 3
   },
   "file_extension": ".py",
   "mimetype": "text/x-python",
   "name": "python",
   "nbconvert_exporter": "python",
   "pygments_lexer": "ipython3",
   "version": "3.7.2"
  }
 },
 "nbformat": 4,
 "nbformat_minor": 2
}
