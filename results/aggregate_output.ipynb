{
 "cells": [
  {
   "cell_type": "code",
   "execution_count": null,
   "metadata": {},
   "outputs": [],
   "source": [
    "import os\n",
    "import numpy as np\n",
    "from statistics import stdev"
   ]
  },
  {
   "cell_type": "markdown",
   "metadata": {},
   "source": [
    "# GA single"
   ]
  },
  {
   "cell_type": "code",
   "execution_count": null,
   "metadata": {},
   "outputs": [],
   "source": [
    "layer_data = {}\n",
    "\n",
    "for fn in os.listdir('layer'):\n",
    "    with open(os.path.join('layer', fn)) as f:\n",
    "        lines = [tmp.replace('\\n', '') for tmp in f.readlines()]\n",
    "        hop_file = lines[0]\n",
    "        res = float(lines[-1].split('\\t')[-1])\n",
    "        if res > 10:\n",
    "            print(fn)\n",
    "        if hop_file not in layer_data.keys():\n",
    "            layer_data[hop_file] = {fn: res}\n",
    "        else:\n",
    "            layer_data[hop_file][fn] = res"
   ]
  },
  {
   "cell_type": "code",
   "execution_count": null,
   "metadata": {},
   "outputs": [],
   "source": [
    "for i in sorted(layer_data.keys()):\n",
    "    values = list(layer_data[i].values())\n",
    "#     if any([tmp == float('inf') for tmp in values]):\n",
    "#         for j in range(len(values)):\n",
    "#             if values[j] == float('inf'):\n",
    "#                 values[j] = min(values) \n",
    "    print(i.split('.')[0], min(values), np.mean(values), stdev(values))"
   ]
  },
  {
   "cell_type": "markdown",
   "metadata": {},
   "source": [
    "# GA multi"
   ]
  },
  {
   "cell_type": "code",
   "execution_count": null,
   "metadata": {},
   "outputs": [],
   "source": [
    "hop_data = {}\n",
    "\n",
    "for fn in os.listdir('hop'):\n",
    "    with open(os.path.join('hop', fn)) as f:\n",
    "        lines = [tmp.replace('\\n', '') for tmp in f.readlines()]\n",
    "        hop_file = lines[0]\n",
    "        res = float(lines[-1].split('\\t')[-1])\n",
    "        if res > 10:\n",
    "            print(fn)\n",
    "        if hop_file not in hop_data.keys():\n",
    "            hop_data[hop_file] = {fn: res}\n",
    "        else:\n",
    "            hop_data[hop_file][fn] = res"
   ]
  },
  {
   "cell_type": "code",
   "execution_count": null,
   "metadata": {},
   "outputs": [],
   "source": [
    "for i in sorted(hop_data.keys()):\n",
    "    values = list(hop_data[i].values())\n",
    "#     if any([tmp == float('inf') for tmp in values]):\n",
    "#         for j in range(len(values)):\n",
    "#             if values[j] == float('inf'):\n",
    "#                 values[j] = min(values) \n",
    "    print(i.split('.')[0], min(values), np.mean(values), stdev(values))"
   ]
  },
  {
   "cell_type": "markdown",
   "metadata": {},
   "source": [
    "# MFEA 2"
   ]
  },
  {
   "cell_type": "code",
   "execution_count": null,
   "metadata": {},
   "outputs": [],
   "source": [
    "res = {}\n",
    "\n",
    "for fn in os.listdir('mfea2'):\n",
    "    lines = open(os.path.join('mfea2', fn)).readlines()\n",
    "    tests = lines[0].replace(',', '').replace('[', '').replace(']', '').replace(\"'\", '')\n",
    "    if tests in res.keys():\n",
    "        res[tests].append([float(tmp.replace('\\n', '')) for tmp in lines[-2:]])\n",
    "    else:\n",
    "        res[tests] = [[float(tmp.replace('\\n', '')) for tmp in lines[-2:]]]"
   ]
  },
  {
   "cell_type": "code",
   "execution_count": null,
   "metadata": {},
   "outputs": [],
   "source": [
    "for k in sorted(res.keys()):\n",
    "    tasks = k.split(' ')\n",
    "    for i in range(len(tasks)):\n",
    "        print(tasks[i].split('/')[-1].split('.')[0], end=' ')\n",
    "        values = [tmp[i] for tmp in res[k]]\n",
    "        if any([tmp == float('inf') for tmp in values]):\n",
    "            for j in range(len(values)):\n",
    "                if values[j] == float('inf'):\n",
    "                    values[j] = min(values) \n",
    "        print(min(values), np.mean(values), stdev(values), end=' ')\n",
    "    print()"
   ]
  },
  {
   "cell_type": "markdown",
   "metadata": {},
   "source": [
    "# MFEA 31"
   ]
  },
  {
   "cell_type": "code",
   "execution_count": null,
   "metadata": {},
   "outputs": [],
   "source": [
    "res = {}\n",
    "\n",
    "cnt = 0\n",
    "\n",
    "for fn in os.listdir('mfea31'):\n",
    "    lines = open(os.path.join('mfea31', fn)).readlines()\n",
    "    tests = lines[0].replace(',', '').replace('[', '').replace(']', '').replace(\"'\", '')\n",
    "    values = [float(tmp.replace('\\n', '')) for tmp in lines[-4:]]\n",
    "    if tests in res.keys():\n",
    "        res[tests].append([float(tmp.replace('\\n', '')) for tmp in lines[-4:]])\n",
    "    else:\n",
    "        res[tests] = [[float(tmp.replace('\\n', '')) for tmp in lines[-4:]]]\n",
    "        \n",
    "    if any([tmp > 10 for tmp in values]):\n",
    "        print(fn)\n",
    "        cnt+=1\n",
    "        \n",
    "print(cnt)\n",
    "        \n",
    "print(len(os.listdir('mfea31')))"
   ]
  },
  {
   "cell_type": "code",
   "execution_count": null,
   "metadata": {},
   "outputs": [],
   "source": [
    "for k in sorted(res.keys()):\n",
    "    tasks = k.split(' ')\n",
    "    for i in range(len(tasks)):\n",
    "        print(tasks[i].split('/')[-1].split('.')[0], end=' ')\n",
    "        values = [tmp[i] for tmp in res[k]]\n",
    "        if any([tmp == float('inf') for tmp in values]):\n",
    "            for j in range(len(values)):\n",
    "                if values[j] == float('inf'):\n",
    "                    values[j] = min(values) \n",
    "        print(min(values), np.mean(values), stdev(values), end=' ')\n",
    "    print()"
   ]
  },
  {
   "cell_type": "markdown",
   "metadata": {},
   "source": [
    "# MFEA 13"
   ]
  },
  {
   "cell_type": "code",
   "execution_count": null,
   "metadata": {},
   "outputs": [],
   "source": [
    "res = {}\n",
    "\n",
    "for fn in os.listdir('mfea13'):\n",
    "    lines = open(os.path.join('mfea13', fn)).readlines()\n",
    "    tests = lines[0].replace(',', '').replace('[', '').replace(']', '').replace(\"'\", '')\n",
    "    values = [float(tmp.replace('\\n', '')) for tmp in lines[-4:]]\n",
    "    if tests in res.keys():\n",
    "        res[tests].append([float(tmp.replace('\\n', '')) for tmp in lines[-4:]])\n",
    "    else:\n",
    "        res[tests] = [[float(tmp.replace('\\n', '')) for tmp in lines[-4:]]]\n",
    "        \n",
    "    if any([tmp > 10 for tmp in values]):\n",
    "        print(fn)"
   ]
  },
  {
   "cell_type": "code",
   "execution_count": null,
   "metadata": {
    "scrolled": false
   },
   "outputs": [],
   "source": [
    "for k in sorted(res.keys()):\n",
    "    tasks = k.split(' ')\n",
    "    for i in range(len(tasks)):\n",
    "        print(tasks[i].split('/')[-1].split('.')[0], end=' ')\n",
    "        values = [tmp[i] for tmp in res[k]]\n",
    "        if any([tmp == float('inf') for tmp in values]):\n",
    "            for j in range(len(values)):\n",
    "                if values[j] == float('inf'):\n",
    "                    values[j] = min(values) \n",
    "        print(min(values), np.mean(values), stdev(values), end=' ')\n",
    "    print()"
   ]
  },
  {
   "cell_type": "markdown",
   "metadata": {},
   "source": [
    "# MFEA 6"
   ]
  },
  {
   "cell_type": "code",
   "execution_count": null,
   "metadata": {},
   "outputs": [],
   "source": [
    "res = {}\n",
    "\n",
    "for fn in os.listdir('mfea6'):\n",
    "    lines = open(os.path.join('mfea6', fn)).readlines()\n",
    "    tests = lines[0].replace(',', '').replace('[', '').replace(']', '').replace(\"'\", '')\n",
    "    values = [float(tmp.replace('\\n', '')) for tmp in lines[-4:]]\n",
    "    if tests in res.keys():\n",
    "        res[tests].append([float(tmp.replace('\\n', '')) for tmp in lines[-4:]])\n",
    "    else:\n",
    "        res[tests] = [[float(tmp.replace('\\n', '')) for tmp in lines[-4:]]]\n",
    "        \n",
    "    if any([tmp > 10 for tmp in values]):\n",
    "        print(fn)"
   ]
  },
  {
   "cell_type": "code",
   "execution_count": null,
   "metadata": {},
   "outputs": [],
   "source": [
    "for k in sorted(res.keys()):\n",
    "    tasks = k.split(' ')\n",
    "    for i in range(len(tasks)):\n",
    "        print(tasks[i].split('/')[-1].split('.')[0], end=' ')\n",
    "        values = [tmp[i] for tmp in res[k]]\n",
    "        if any([tmp == float('inf') for tmp in values]):\n",
    "            for j in range(len(values)):\n",
    "                if values[j] == float('inf'):\n",
    "                    values[j] = min(values) \n",
    "        print(min(values), np.mean(values), stdev(values), end=' ')\n",
    "    print()"
   ]
  },
  {
   "cell_type": "code",
   "execution_count": null,
   "metadata": {},
   "outputs": [],
   "source": []
  }
 ],
 "metadata": {
  "kernelspec": {
   "display_name": "Python 3",
   "language": "python",
   "name": "python3"
  },
  "language_info": {
   "codemirror_mode": {
    "name": "ipython",
    "version": 3
   },
   "file_extension": ".py",
   "mimetype": "text/x-python",
   "name": "python",
   "nbconvert_exporter": "python",
   "pygments_lexer": "ipython3",
   "version": "3.7.2"
  }
 },
 "nbformat": 4,
 "nbformat_minor": 2
}
