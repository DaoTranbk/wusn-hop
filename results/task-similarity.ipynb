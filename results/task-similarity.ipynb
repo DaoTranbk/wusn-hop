{
 "cells": [
  {
   "cell_type": "code",
   "execution_count": 16,
   "metadata": {},
   "outputs": [],
   "source": [
    "import numpy as np\n",
    "from IPython.display import HTML, display\n",
    "import tabulate"
   ]
  },
  {
   "cell_type": "code",
   "execution_count": 40,
   "metadata": {},
   "outputs": [],
   "source": [
    "types = [['./data/layer/ga-dem9_r25_1.json', './data/layer/ga-dem4_r25_1.json', './data/layer/ga-dem1_r25_1.json', './data/layer/ga-dem6_r25_1.json', './data/layer/ga-dem3_r25_1.json', './data/layer/ga-dem8_r25_1.json', './data/layer/ga-dem5_r25_1.json', './data/layer/ga-dem2_r25_1.json', './data/layer/ga-dem10_r25_1.json', './data/layer/ga-dem7_r25_1.json', './data/hop/ga-dem10_r25_1_0.json', './data/hop/ga-dem7_r25_1_0.json', './data/hop/ga-dem6_r25_1_0.json', './data/hop/ga-dem1_r25_1_0.json', './data/hop/ga-dem3_r25_1_0.json', './data/hop/ga-dem4_r25_1_0.json', './data/hop/ga-dem5_r25_1_0.json', './data/hop/ga-dem2_r25_1_0.json', './data/hop/ga-dem8_r25_1_0.json', './data/hop/ga-dem9_r25_1_0.json'], ['./data/layer/no-dem7_r25_1.json', './data/layer/no-dem2_r25_1.json', './data/layer/no-dem5_r25_1.json', './data/layer/no-dem8_r25_1.json', './data/layer/no-dem10_r25_1.json', './data/layer/no-dem3_r25_1.json', './data/layer/no-dem6_r25_1.json', './data/layer/no-dem1_r25_1.json', './data/layer/no-dem4_r25_1.json', './data/layer/no-dem9_r25_1.json', './data/hop/no-dem7_r25_1_0.json', './data/hop/no-dem1_r25_1_0.json', './data/hop/no-dem6_r25_1_0.json', './data/hop/no-dem10_r25_1_0.json', './data/hop/no-dem4_r25_1_0.json', './data/hop/no-dem3_r25_1_0.json', './data/hop/no-dem2_r25_1_0.json', './data/hop/no-dem5_r25_1_0.json', './data/hop/no-dem8_r25_1_0.json', './data/hop/no-dem9_r25_1_0.json'], ['./data/layer/uu-dem2_r25_1.json', './data/layer/uu-dem10_r25_1.json', './data/layer/uu-dem7_r25_1.json', './data/layer/uu-dem8_r25_1.json', './data/layer/uu-dem5_r25_1.json', './data/layer/uu-dem6_r25_1.json', './data/layer/uu-dem3_r25_1.json', './data/layer/uu-dem9_r25_1.json', './data/layer/uu-dem4_r25_1.json', './data/layer/uu-dem1_r25_1.json', './data/hop/uu-dem8_r25_1_0.json', './data/hop/uu-dem9_r25_1_0.json', './data/hop/uu-dem10_r25_1_0.json', './data/hop/uu-dem3_r25_1_0.json', './data/hop/uu-dem4_r25_1_0.json', './data/hop/uu-dem5_r25_1_0.json', './data/hop/uu-dem2_r25_1_0.json', './data/hop/uu-dem7_r25_1_0.json', './data/hop/uu-dem6_r25_1_0.json', './data/hop/uu-dem1_r25_1_0.json'], ['./data/layer/uu-dem8_r50_1.json', './data/layer/uu-dem5_r50_1.json', './data/layer/uu-dem7_r50_1.json', './data/layer/uu-dem2_r50_1.json', './data/layer/uu-dem10_r50_1.json', './data/layer/uu-dem1_r50_1.json', './data/layer/uu-dem9_r50_1.json', './data/layer/uu-dem4_r50_1.json', './data/layer/uu-dem3_r50_1.json', './data/layer/uu-dem6_r50_1.json', './data/hop/uu-dem6_r50_1_0.json', './data/hop/uu-dem1_r50_1_0.json', './data/hop/uu-dem7_r50_1_0.json', './data/hop/uu-dem10_r50_1_0.json', './data/hop/uu-dem9_r50_1_0.json', './data/hop/uu-dem8_r50_1_0.json', './data/hop/uu-dem5_r50_1_0.json', './data/hop/uu-dem2_r50_1_0.json', './data/hop/uu-dem3_r50_1_0.json', './data/hop/uu-dem4_r50_1_0.json'], ['./data/layer/uu-dem2_r25_1.json', './data/layer/uu-dem10_r25_1.json', './data/layer/uu-dem7_r25_1.json', './data/layer/uu-dem8_r25_1.json', './data/layer/uu-dem5_r25_1.json', './data/layer/uu-dem6_r25_1.json', './data/layer/uu-dem3_r25_1.json', './data/layer/uu-dem9_r25_1.json', './data/layer/uu-dem4_r25_1.json', './data/layer/uu-dem1_r25_1.json', './data/hop/uu-dem4_r25_1_40.json', './data/hop/uu-dem3_r25_1_40.json', './data/hop/uu-dem7_r25_1_40.json', './data/hop/uu-dem9_r25_1_40.json', './data/hop/uu-dem8_r25_1_40.json', './data/hop/uu-dem6_r25_1_40.json', './data/hop/uu-dem10_r25_1_40.json', './data/hop/uu-dem2_r25_1_40.json', './data/hop/uu-dem5_r25_1_40.json', './data/hop/uu-dem1_r25_1_40.json']]\n",
    "# types = [[tmp1.split('/')[-1] for tmp1 in tmp] for tmp in types]"
   ]
  },
  {
   "cell_type": "code",
   "execution_count": 41,
   "metadata": {},
   "outputs": [
    {
     "name": "stdout",
     "output_type": "stream",
     "text": [
      "['./data/hop/ga-dem10_r25_1_0.json', './data/hop/ga-dem1_r25_1_0.json', './data/hop/ga-dem2_r25_1_0.json', './data/hop/ga-dem3_r25_1_0.json', './data/hop/ga-dem4_r25_1_0.json', './data/hop/ga-dem5_r25_1_0.json', './data/hop/ga-dem6_r25_1_0.json', './data/hop/ga-dem7_r25_1_0.json', './data/hop/ga-dem8_r25_1_0.json', './data/hop/ga-dem9_r25_1_0.json', './data/layer/ga-dem10_r25_1.json', './data/layer/ga-dem1_r25_1.json', './data/layer/ga-dem2_r25_1.json', './data/layer/ga-dem3_r25_1.json', './data/layer/ga-dem4_r25_1.json', './data/layer/ga-dem5_r25_1.json', './data/layer/ga-dem6_r25_1.json', './data/layer/ga-dem7_r25_1.json', './data/layer/ga-dem8_r25_1.json', './data/layer/ga-dem9_r25_1.json']\n",
      "['./data/hop/no-dem10_r25_1_0.json', './data/hop/no-dem1_r25_1_0.json', './data/hop/no-dem2_r25_1_0.json', './data/hop/no-dem3_r25_1_0.json', './data/hop/no-dem4_r25_1_0.json', './data/hop/no-dem5_r25_1_0.json', './data/hop/no-dem6_r25_1_0.json', './data/hop/no-dem7_r25_1_0.json', './data/hop/no-dem8_r25_1_0.json', './data/hop/no-dem9_r25_1_0.json', './data/layer/no-dem10_r25_1.json', './data/layer/no-dem1_r25_1.json', './data/layer/no-dem2_r25_1.json', './data/layer/no-dem3_r25_1.json', './data/layer/no-dem4_r25_1.json', './data/layer/no-dem5_r25_1.json', './data/layer/no-dem6_r25_1.json', './data/layer/no-dem7_r25_1.json', './data/layer/no-dem8_r25_1.json', './data/layer/no-dem9_r25_1.json']\n",
      "['./data/hop/uu-dem10_r25_1_0.json', './data/hop/uu-dem1_r25_1_0.json', './data/hop/uu-dem2_r25_1_0.json', './data/hop/uu-dem3_r25_1_0.json', './data/hop/uu-dem4_r25_1_0.json', './data/hop/uu-dem5_r25_1_0.json', './data/hop/uu-dem6_r25_1_0.json', './data/hop/uu-dem7_r25_1_0.json', './data/hop/uu-dem8_r25_1_0.json', './data/hop/uu-dem9_r25_1_0.json', './data/layer/uu-dem10_r25_1.json', './data/layer/uu-dem1_r25_1.json', './data/layer/uu-dem2_r25_1.json', './data/layer/uu-dem3_r25_1.json', './data/layer/uu-dem4_r25_1.json', './data/layer/uu-dem5_r25_1.json', './data/layer/uu-dem6_r25_1.json', './data/layer/uu-dem7_r25_1.json', './data/layer/uu-dem8_r25_1.json', './data/layer/uu-dem9_r25_1.json']\n",
      "['./data/hop/uu-dem10_r50_1_0.json', './data/hop/uu-dem1_r50_1_0.json', './data/hop/uu-dem2_r50_1_0.json', './data/hop/uu-dem3_r50_1_0.json', './data/hop/uu-dem4_r50_1_0.json', './data/hop/uu-dem5_r50_1_0.json', './data/hop/uu-dem6_r50_1_0.json', './data/hop/uu-dem7_r50_1_0.json', './data/hop/uu-dem8_r50_1_0.json', './data/hop/uu-dem9_r50_1_0.json', './data/layer/uu-dem10_r50_1.json', './data/layer/uu-dem1_r50_1.json', './data/layer/uu-dem2_r50_1.json', './data/layer/uu-dem3_r50_1.json', './data/layer/uu-dem4_r50_1.json', './data/layer/uu-dem5_r50_1.json', './data/layer/uu-dem6_r50_1.json', './data/layer/uu-dem7_r50_1.json', './data/layer/uu-dem8_r50_1.json', './data/layer/uu-dem9_r50_1.json']\n",
      "['./data/hop/uu-dem10_r25_1_40.json', './data/hop/uu-dem1_r25_1_40.json', './data/hop/uu-dem2_r25_1_40.json', './data/hop/uu-dem3_r25_1_40.json', './data/hop/uu-dem4_r25_1_40.json', './data/hop/uu-dem5_r25_1_40.json', './data/hop/uu-dem6_r25_1_40.json', './data/hop/uu-dem7_r25_1_40.json', './data/hop/uu-dem8_r25_1_40.json', './data/hop/uu-dem9_r25_1_40.json', './data/layer/uu-dem10_r25_1.json', './data/layer/uu-dem1_r25_1.json', './data/layer/uu-dem2_r25_1.json', './data/layer/uu-dem3_r25_1.json', './data/layer/uu-dem4_r25_1.json', './data/layer/uu-dem5_r25_1.json', './data/layer/uu-dem6_r25_1.json', './data/layer/uu-dem7_r25_1.json', './data/layer/uu-dem8_r25_1.json', './data/layer/uu-dem9_r25_1.json']\n"
     ]
    }
   ],
   "source": [
    "for i in types:\n",
    "    print(sorted(i))"
   ]
  },
  {
   "cell_type": "code",
   "execution_count": 37,
   "metadata": {},
   "outputs": [
    {
     "name": "stdout",
     "output_type": "stream",
     "text": [
      "uu-dem2_r25_1.json uu-dem10_r25_1.json uu-dem7_r25_1.json uu-dem8_r25_1.json uu-dem5_r25_1.json uu-dem6_r25_1.json uu-dem3_r25_1.json uu-dem9_r25_1.json uu-dem4_r25_1.json uu-dem1_r25_1.json uu-dem4_r25_1_40.json uu-dem3_r25_1_40.json uu-dem7_r25_1_40.json uu-dem9_r25_1_40.json uu-dem8_r25_1_40.json uu-dem6_r25_1_40.json uu-dem10_r25_1_40.json uu-dem2_r25_1_40.json uu-dem5_r25_1_40.json uu-dem1_r25_1_40.json "
     ]
    }
   ],
   "source": [
    "data = np.load('task-sim-5/99.npy')\n",
    "for i in types[4]:\n",
    "    print(i, end=' ')"
   ]
  },
  {
   "cell_type": "code",
   "execution_count": 38,
   "metadata": {},
   "outputs": [],
   "source": [
    "def rcoeff(X, Y):\n",
    "    Xmean, Ymean = np.mean(X), np.mean(Y)\n",
    "    det = sum([(tmp1 - Xmean)*(tmp2 - Ymean) for tmp1, tmp2 in zip(X, Y)])\n",
    "    nom = np.sqrt(sum([(tmp - Xmean)**2 for tmp in X]))*np.sqrt(sum([(tmp - Ymean)**2 for tmp in Y]))\n",
    "    \n",
    "    return det/nom\n",
    "\n",
    "# table = [types[0]]\n",
    "table = []\n",
    "for i in range(20):\n",
    "    row = []\n",
    "    for j in range(20):\n",
    "        row.append(round(rcoeff(data[i], data[j]), 3))\n",
    "    table.append(row)"
   ]
  },
  {
   "cell_type": "code",
   "execution_count": 39,
   "metadata": {},
   "outputs": [
    {
     "data": {
      "text/html": [
       "<table>\n",
       "<tbody>\n",
       "<tr><td style=\"text-align: right;\">1    </td><td style=\"text-align: right;\">0.844</td><td style=\"text-align: right;\">0.709</td><td style=\"text-align: right;\">0.852</td><td style=\"text-align: right;\">0.86 </td><td style=\"text-align: right;\">0.842</td><td style=\"text-align: right;\">0.867</td><td style=\"text-align: right;\">0.811</td><td style=\"text-align: right;\">0.861</td><td style=\"text-align: right;\">0.747</td><td style=\"text-align: right;\">0.871</td><td style=\"text-align: right;\">0.326</td><td style=\"text-align: right;\">0.843</td><td style=\"text-align: right;\">0.365</td><td style=\"text-align: right;\">0.816</td><td style=\"text-align: right;\">0.777</td><td style=\"text-align: right;\">0.757</td><td style=\"text-align: right;\">0.638</td><td style=\"text-align: right;\">0.716</td><td style=\"text-align: right;\">0.719</td></tr>\n",
       "<tr><td style=\"text-align: right;\">0.844</td><td style=\"text-align: right;\">1    </td><td style=\"text-align: right;\">0.832</td><td style=\"text-align: right;\">0.78 </td><td style=\"text-align: right;\">0.79 </td><td style=\"text-align: right;\">0.763</td><td style=\"text-align: right;\">0.784</td><td style=\"text-align: right;\">0.742</td><td style=\"text-align: right;\">0.782</td><td style=\"text-align: right;\">0.688</td><td style=\"text-align: right;\">0.787</td><td style=\"text-align: right;\">0.282</td><td style=\"text-align: right;\">0.768</td><td style=\"text-align: right;\">0.312</td><td style=\"text-align: right;\">0.746</td><td style=\"text-align: right;\">0.716</td><td style=\"text-align: right;\">0.691</td><td style=\"text-align: right;\">0.632</td><td style=\"text-align: right;\">0.653</td><td style=\"text-align: right;\">0.686</td></tr>\n",
       "<tr><td style=\"text-align: right;\">0.709</td><td style=\"text-align: right;\">0.832</td><td style=\"text-align: right;\">1    </td><td style=\"text-align: right;\">0.644</td><td style=\"text-align: right;\">0.64 </td><td style=\"text-align: right;\">0.628</td><td style=\"text-align: right;\">0.643</td><td style=\"text-align: right;\">0.615</td><td style=\"text-align: right;\">0.641</td><td style=\"text-align: right;\">0.589</td><td style=\"text-align: right;\">0.644</td><td style=\"text-align: right;\">0.187</td><td style=\"text-align: right;\">0.631</td><td style=\"text-align: right;\">0.253</td><td style=\"text-align: right;\">0.622</td><td style=\"text-align: right;\">0.596</td><td style=\"text-align: right;\">0.591</td><td style=\"text-align: right;\">0.547</td><td style=\"text-align: right;\">0.561</td><td style=\"text-align: right;\">0.591</td></tr>\n",
       "<tr><td style=\"text-align: right;\">0.852</td><td style=\"text-align: right;\">0.78 </td><td style=\"text-align: right;\">0.644</td><td style=\"text-align: right;\">1    </td><td style=\"text-align: right;\">0.796</td><td style=\"text-align: right;\">0.779</td><td style=\"text-align: right;\">0.8  </td><td style=\"text-align: right;\">0.761</td><td style=\"text-align: right;\">0.794</td><td style=\"text-align: right;\">0.706</td><td style=\"text-align: right;\">0.804</td><td style=\"text-align: right;\">0.328</td><td style=\"text-align: right;\">0.783</td><td style=\"text-align: right;\">0.335</td><td style=\"text-align: right;\">0.764</td><td style=\"text-align: right;\">0.762</td><td style=\"text-align: right;\">0.733</td><td style=\"text-align: right;\">0.615</td><td style=\"text-align: right;\">0.687</td><td style=\"text-align: right;\">0.699</td></tr>\n",
       "<tr><td style=\"text-align: right;\">0.86 </td><td style=\"text-align: right;\">0.79 </td><td style=\"text-align: right;\">0.64 </td><td style=\"text-align: right;\">0.796</td><td style=\"text-align: right;\">1    </td><td style=\"text-align: right;\">0.78 </td><td style=\"text-align: right;\">0.806</td><td style=\"text-align: right;\">0.764</td><td style=\"text-align: right;\">0.8  </td><td style=\"text-align: right;\">0.703</td><td style=\"text-align: right;\">0.807</td><td style=\"text-align: right;\">0.266</td><td style=\"text-align: right;\">0.783</td><td style=\"text-align: right;\">0.318</td><td style=\"text-align: right;\">0.766</td><td style=\"text-align: right;\">0.736</td><td style=\"text-align: right;\">0.708</td><td style=\"text-align: right;\">0.591</td><td style=\"text-align: right;\">0.667</td><td style=\"text-align: right;\">0.666</td></tr>\n",
       "<tr><td style=\"text-align: right;\">0.842</td><td style=\"text-align: right;\">0.763</td><td style=\"text-align: right;\">0.628</td><td style=\"text-align: right;\">0.779</td><td style=\"text-align: right;\">0.78 </td><td style=\"text-align: right;\">1    </td><td style=\"text-align: right;\">0.781</td><td style=\"text-align: right;\">0.743</td><td style=\"text-align: right;\">0.779</td><td style=\"text-align: right;\">0.686</td><td style=\"text-align: right;\">0.783</td><td style=\"text-align: right;\">0.343</td><td style=\"text-align: right;\">0.761</td><td style=\"text-align: right;\">0.303</td><td style=\"text-align: right;\">0.741</td><td style=\"text-align: right;\">0.711</td><td style=\"text-align: right;\">0.691</td><td style=\"text-align: right;\">0.577</td><td style=\"text-align: right;\">0.655</td><td style=\"text-align: right;\">0.652</td></tr>\n",
       "<tr><td style=\"text-align: right;\">0.867</td><td style=\"text-align: right;\">0.784</td><td style=\"text-align: right;\">0.643</td><td style=\"text-align: right;\">0.8  </td><td style=\"text-align: right;\">0.806</td><td style=\"text-align: right;\">0.781</td><td style=\"text-align: right;\">1    </td><td style=\"text-align: right;\">0.76 </td><td style=\"text-align: right;\">0.806</td><td style=\"text-align: right;\">0.7  </td><td style=\"text-align: right;\">0.813</td><td style=\"text-align: right;\">0.286</td><td style=\"text-align: right;\">0.785</td><td style=\"text-align: right;\">0.316</td><td style=\"text-align: right;\">0.764</td><td style=\"text-align: right;\">0.727</td><td style=\"text-align: right;\">0.706</td><td style=\"text-align: right;\">0.593</td><td style=\"text-align: right;\">0.667</td><td style=\"text-align: right;\">0.674</td></tr>\n",
       "<tr><td style=\"text-align: right;\">0.811</td><td style=\"text-align: right;\">0.742</td><td style=\"text-align: right;\">0.615</td><td style=\"text-align: right;\">0.761</td><td style=\"text-align: right;\">0.764</td><td style=\"text-align: right;\">0.743</td><td style=\"text-align: right;\">0.76 </td><td style=\"text-align: right;\">1    </td><td style=\"text-align: right;\">0.752</td><td style=\"text-align: right;\">0.675</td><td style=\"text-align: right;\">0.759</td><td style=\"text-align: right;\">0.244</td><td style=\"text-align: right;\">0.742</td><td style=\"text-align: right;\">0.354</td><td style=\"text-align: right;\">0.736</td><td style=\"text-align: right;\">0.698</td><td style=\"text-align: right;\">0.682</td><td style=\"text-align: right;\">0.576</td><td style=\"text-align: right;\">0.641</td><td style=\"text-align: right;\">0.73 </td></tr>\n",
       "<tr><td style=\"text-align: right;\">0.861</td><td style=\"text-align: right;\">0.782</td><td style=\"text-align: right;\">0.641</td><td style=\"text-align: right;\">0.794</td><td style=\"text-align: right;\">0.8  </td><td style=\"text-align: right;\">0.779</td><td style=\"text-align: right;\">0.806</td><td style=\"text-align: right;\">0.752</td><td style=\"text-align: right;\">1    </td><td style=\"text-align: right;\">0.696</td><td style=\"text-align: right;\">0.807</td><td style=\"text-align: right;\">0.298</td><td style=\"text-align: right;\">0.779</td><td style=\"text-align: right;\">0.328</td><td style=\"text-align: right;\">0.754</td><td style=\"text-align: right;\">0.726</td><td style=\"text-align: right;\">0.698</td><td style=\"text-align: right;\">0.59 </td><td style=\"text-align: right;\">0.655</td><td style=\"text-align: right;\">0.675</td></tr>\n",
       "<tr><td style=\"text-align: right;\">0.747</td><td style=\"text-align: right;\">0.688</td><td style=\"text-align: right;\">0.589</td><td style=\"text-align: right;\">0.706</td><td style=\"text-align: right;\">0.703</td><td style=\"text-align: right;\">0.686</td><td style=\"text-align: right;\">0.7  </td><td style=\"text-align: right;\">0.675</td><td style=\"text-align: right;\">0.696</td><td style=\"text-align: right;\">1    </td><td style=\"text-align: right;\">0.706</td><td style=\"text-align: right;\">0.297</td><td style=\"text-align: right;\">0.704</td><td style=\"text-align: right;\">0.305</td><td style=\"text-align: right;\">0.682</td><td style=\"text-align: right;\">0.742</td><td style=\"text-align: right;\">0.652</td><td style=\"text-align: right;\">0.634</td><td style=\"text-align: right;\">0.71 </td><td style=\"text-align: right;\">0.672</td></tr>\n",
       "<tr><td style=\"text-align: right;\">0.871</td><td style=\"text-align: right;\">0.787</td><td style=\"text-align: right;\">0.644</td><td style=\"text-align: right;\">0.804</td><td style=\"text-align: right;\">0.807</td><td style=\"text-align: right;\">0.783</td><td style=\"text-align: right;\">0.813</td><td style=\"text-align: right;\">0.759</td><td style=\"text-align: right;\">0.807</td><td style=\"text-align: right;\">0.706</td><td style=\"text-align: right;\">1    </td><td style=\"text-align: right;\">0.28 </td><td style=\"text-align: right;\">0.787</td><td style=\"text-align: right;\">0.419</td><td style=\"text-align: right;\">0.766</td><td style=\"text-align: right;\">0.728</td><td style=\"text-align: right;\">0.709</td><td style=\"text-align: right;\">0.656</td><td style=\"text-align: right;\">0.668</td><td style=\"text-align: right;\">0.676</td></tr>\n",
       "<tr><td style=\"text-align: right;\">0.326</td><td style=\"text-align: right;\">0.282</td><td style=\"text-align: right;\">0.187</td><td style=\"text-align: right;\">0.328</td><td style=\"text-align: right;\">0.266</td><td style=\"text-align: right;\">0.343</td><td style=\"text-align: right;\">0.286</td><td style=\"text-align: right;\">0.244</td><td style=\"text-align: right;\">0.298</td><td style=\"text-align: right;\">0.297</td><td style=\"text-align: right;\">0.28 </td><td style=\"text-align: right;\">1    </td><td style=\"text-align: right;\">0.271</td><td style=\"text-align: right;\">0.296</td><td style=\"text-align: right;\">0.347</td><td style=\"text-align: right;\">0.284</td><td style=\"text-align: right;\">0.345</td><td style=\"text-align: right;\">0.391</td><td style=\"text-align: right;\">0.439</td><td style=\"text-align: right;\">0.285</td></tr>\n",
       "<tr><td style=\"text-align: right;\">0.843</td><td style=\"text-align: right;\">0.768</td><td style=\"text-align: right;\">0.631</td><td style=\"text-align: right;\">0.783</td><td style=\"text-align: right;\">0.783</td><td style=\"text-align: right;\">0.761</td><td style=\"text-align: right;\">0.785</td><td style=\"text-align: right;\">0.742</td><td style=\"text-align: right;\">0.779</td><td style=\"text-align: right;\">0.704</td><td style=\"text-align: right;\">0.787</td><td style=\"text-align: right;\">0.271</td><td style=\"text-align: right;\">1    </td><td style=\"text-align: right;\">0.295</td><td style=\"text-align: right;\">0.747</td><td style=\"text-align: right;\">0.709</td><td style=\"text-align: right;\">0.695</td><td style=\"text-align: right;\">0.585</td><td style=\"text-align: right;\">0.668</td><td style=\"text-align: right;\">0.655</td></tr>\n",
       "<tr><td style=\"text-align: right;\">0.365</td><td style=\"text-align: right;\">0.312</td><td style=\"text-align: right;\">0.253</td><td style=\"text-align: right;\">0.335</td><td style=\"text-align: right;\">0.318</td><td style=\"text-align: right;\">0.303</td><td style=\"text-align: right;\">0.316</td><td style=\"text-align: right;\">0.354</td><td style=\"text-align: right;\">0.328</td><td style=\"text-align: right;\">0.305</td><td style=\"text-align: right;\">0.419</td><td style=\"text-align: right;\">0.296</td><td style=\"text-align: right;\">0.295</td><td style=\"text-align: right;\">1    </td><td style=\"text-align: right;\">0.427</td><td style=\"text-align: right;\">0.393</td><td style=\"text-align: right;\">0.428</td><td style=\"text-align: right;\">0.487</td><td style=\"text-align: right;\">0.424</td><td style=\"text-align: right;\">0.57 </td></tr>\n",
       "<tr><td style=\"text-align: right;\">0.816</td><td style=\"text-align: right;\">0.746</td><td style=\"text-align: right;\">0.622</td><td style=\"text-align: right;\">0.764</td><td style=\"text-align: right;\">0.766</td><td style=\"text-align: right;\">0.741</td><td style=\"text-align: right;\">0.764</td><td style=\"text-align: right;\">0.736</td><td style=\"text-align: right;\">0.754</td><td style=\"text-align: right;\">0.682</td><td style=\"text-align: right;\">0.766</td><td style=\"text-align: right;\">0.347</td><td style=\"text-align: right;\">0.747</td><td style=\"text-align: right;\">0.427</td><td style=\"text-align: right;\">1    </td><td style=\"text-align: right;\">0.704</td><td style=\"text-align: right;\">0.686</td><td style=\"text-align: right;\">0.599</td><td style=\"text-align: right;\">0.67 </td><td style=\"text-align: right;\">0.677</td></tr>\n",
       "<tr><td style=\"text-align: right;\">0.777</td><td style=\"text-align: right;\">0.716</td><td style=\"text-align: right;\">0.596</td><td style=\"text-align: right;\">0.762</td><td style=\"text-align: right;\">0.736</td><td style=\"text-align: right;\">0.711</td><td style=\"text-align: right;\">0.727</td><td style=\"text-align: right;\">0.698</td><td style=\"text-align: right;\">0.726</td><td style=\"text-align: right;\">0.742</td><td style=\"text-align: right;\">0.728</td><td style=\"text-align: right;\">0.284</td><td style=\"text-align: right;\">0.709</td><td style=\"text-align: right;\">0.393</td><td style=\"text-align: right;\">0.704</td><td style=\"text-align: right;\">1    </td><td style=\"text-align: right;\">0.657</td><td style=\"text-align: right;\">0.632</td><td style=\"text-align: right;\">0.713</td><td style=\"text-align: right;\">0.613</td></tr>\n",
       "<tr><td style=\"text-align: right;\">0.757</td><td style=\"text-align: right;\">0.691</td><td style=\"text-align: right;\">0.591</td><td style=\"text-align: right;\">0.733</td><td style=\"text-align: right;\">0.708</td><td style=\"text-align: right;\">0.691</td><td style=\"text-align: right;\">0.706</td><td style=\"text-align: right;\">0.682</td><td style=\"text-align: right;\">0.698</td><td style=\"text-align: right;\">0.652</td><td style=\"text-align: right;\">0.709</td><td style=\"text-align: right;\">0.345</td><td style=\"text-align: right;\">0.695</td><td style=\"text-align: right;\">0.428</td><td style=\"text-align: right;\">0.686</td><td style=\"text-align: right;\">0.657</td><td style=\"text-align: right;\">1    </td><td style=\"text-align: right;\">0.699</td><td style=\"text-align: right;\">0.766</td><td style=\"text-align: right;\">0.652</td></tr>\n",
       "<tr><td style=\"text-align: right;\">0.638</td><td style=\"text-align: right;\">0.632</td><td style=\"text-align: right;\">0.547</td><td style=\"text-align: right;\">0.615</td><td style=\"text-align: right;\">0.591</td><td style=\"text-align: right;\">0.577</td><td style=\"text-align: right;\">0.593</td><td style=\"text-align: right;\">0.576</td><td style=\"text-align: right;\">0.59 </td><td style=\"text-align: right;\">0.634</td><td style=\"text-align: right;\">0.656</td><td style=\"text-align: right;\">0.391</td><td style=\"text-align: right;\">0.585</td><td style=\"text-align: right;\">0.487</td><td style=\"text-align: right;\">0.599</td><td style=\"text-align: right;\">0.632</td><td style=\"text-align: right;\">0.699</td><td style=\"text-align: right;\">1    </td><td style=\"text-align: right;\">0.815</td><td style=\"text-align: right;\">0.602</td></tr>\n",
       "<tr><td style=\"text-align: right;\">0.716</td><td style=\"text-align: right;\">0.653</td><td style=\"text-align: right;\">0.561</td><td style=\"text-align: right;\">0.687</td><td style=\"text-align: right;\">0.667</td><td style=\"text-align: right;\">0.655</td><td style=\"text-align: right;\">0.667</td><td style=\"text-align: right;\">0.641</td><td style=\"text-align: right;\">0.655</td><td style=\"text-align: right;\">0.71 </td><td style=\"text-align: right;\">0.668</td><td style=\"text-align: right;\">0.439</td><td style=\"text-align: right;\">0.668</td><td style=\"text-align: right;\">0.424</td><td style=\"text-align: right;\">0.67 </td><td style=\"text-align: right;\">0.713</td><td style=\"text-align: right;\">0.766</td><td style=\"text-align: right;\">0.815</td><td style=\"text-align: right;\">1    </td><td style=\"text-align: right;\">0.638</td></tr>\n",
       "<tr><td style=\"text-align: right;\">0.719</td><td style=\"text-align: right;\">0.686</td><td style=\"text-align: right;\">0.591</td><td style=\"text-align: right;\">0.699</td><td style=\"text-align: right;\">0.666</td><td style=\"text-align: right;\">0.652</td><td style=\"text-align: right;\">0.674</td><td style=\"text-align: right;\">0.73 </td><td style=\"text-align: right;\">0.675</td><td style=\"text-align: right;\">0.672</td><td style=\"text-align: right;\">0.676</td><td style=\"text-align: right;\">0.285</td><td style=\"text-align: right;\">0.655</td><td style=\"text-align: right;\">0.57 </td><td style=\"text-align: right;\">0.677</td><td style=\"text-align: right;\">0.613</td><td style=\"text-align: right;\">0.652</td><td style=\"text-align: right;\">0.602</td><td style=\"text-align: right;\">0.638</td><td style=\"text-align: right;\">1    </td></tr>\n",
       "</tbody>\n",
       "</table>"
      ],
      "text/plain": [
       "<IPython.core.display.HTML object>"
      ]
     },
     "metadata": {},
     "output_type": "display_data"
    }
   ],
   "source": [
    "display(HTML(tabulate.tabulate(table, tablefmt='html')))"
   ]
  },
  {
   "cell_type": "code",
   "execution_count": null,
   "metadata": {},
   "outputs": [],
   "source": []
  }
 ],
 "metadata": {
  "kernelspec": {
   "display_name": "Python 3.7.2 64-bit ('base': conda)",
   "language": "python",
   "name": "python37264bitbaseconda2f5d59423cbb42678158803991d6c8dd"
  },
  "language_info": {
   "codemirror_mode": {
    "name": "ipython",
    "version": 3
   },
   "file_extension": ".py",
   "mimetype": "text/x-python",
   "name": "python",
   "nbconvert_exporter": "python",
   "pygments_lexer": "ipython3",
   "version": "3.7.2"
  }
 },
 "nbformat": 4,
 "nbformat_minor": 2
}
