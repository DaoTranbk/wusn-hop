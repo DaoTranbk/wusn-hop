{
 "cells": [
  {
   "cell_type": "code",
   "execution_count": 1,
   "metadata": {},
   "outputs": [
    {
     "name": "stdout",
     "output_type": "stream",
     "text": [
      "120 60\n"
     ]
    }
   ],
   "source": [
    "import os\n",
    "\n",
    "hop_data = {}\n",
    "\n",
    "for fn in os.listdir('hop'):\n",
    "    with open(os.path.join('hop', fn)) as f:\n",
    "        lines = [tmp.replace('\\n', '') for tmp in f.readlines()]\n",
    "        hop_file = lines[0]\n",
    "        res = float(lines[-1].split('\\t')[-1])\n",
    "        hop_data[hop_file] = res\n",
    "        \n",
    "layer_data = {}\n",
    "\n",
    "for fn in os.listdir('layer'):\n",
    "    with open(os.path.join('layer', fn)) as f:\n",
    "        lines = [tmp.replace('\\n', '') for tmp in f.readlines()]\n",
    "        hop_file = lines[0]\n",
    "        res = float(lines[-1].split('\\t')[-1])\n",
    "        layer_data[hop_file] = res\n",
    "print(len(hop_data), len(layer_data))"
   ]
  },
  {
   "cell_type": "code",
   "execution_count": 22,
   "metadata": {},
   "outputs": [],
   "source": [
    "hop_mfea = {}\n",
    "layer_mfea = {}\n",
    "\n",
    "for fn in os.listdir('mfea'):\n",
    "    with open(os.path.join('mfea', fn)) as f:\n",
    "        lines = [tmp.replace('\\n', '') for tmp in f.readlines()]\n",
    "        hop_file, layer_file = lines[0].split(' ')\n",
    "        res_hop = float(lines[-2].split('\\t')[-1])\n",
    "        res_layer = float(lines[-1].split('\\t')[-1])\n",
    "        hop_mfea[hop_file] = res_hop\n",
    "        if layer_file in layer_mfea.keys():\n",
    "            layer_mfea[layer_file] = min(layer_mfea[layer_file], res_layer)\n",
    "        else:\n",
    "            layer_mfea[layer_file] = res_layer"
   ]
  },
  {
   "cell_type": "code",
   "execution_count": 23,
   "metadata": {},
   "outputs": [
    {
     "name": "stdout",
     "output_type": "stream",
     "text": [
      "60\n"
     ]
    }
   ],
   "source": [
    "print(len(layer_mfea))"
   ]
  },
  {
   "cell_type": "code",
   "execution_count": 29,
   "metadata": {},
   "outputs": [
    {
     "name": "stdout",
     "output_type": "stream",
     "text": [
      "['ga-dem6_r25_1.json', 'no-dem10_r50_1.json', 'no-dem1_r50_1.json', 'no-dem6_r50_1.json', 'uu-dem10_r25_1.json', 'uu-dem5_r25_1.json', 'uu-dem7_r50_1.json', 'uu-dem9_r25_1.json']\n",
      "['ga-dem1_r25_1_40.json', 'ga-dem2_r50_1_40.json', 'ga-dem3_r25_1_0.json', 'ga-dem3_r50_1_40.json', 'ga-dem5_r25_1_40.json', 'ga-dem6_r50_1_40.json', 'ga-dem7_r25_1_0.json', 'ga-dem8_r25_1_40.json', 'ga-dem8_r50_1_40.json', 'ga-dem9_r50_1_0.json', 'no-dem10_r25_1_40.json', 'no-dem1_r50_1_40.json', 'no-dem2_r25_1_40.json', 'no-dem2_r50_1_0.json', 'no-dem2_r50_1_40.json', 'no-dem3_r50_1_0.json', 'no-dem4_r25_1_40.json', 'no-dem5_r50_1_0.json', 'no-dem5_r50_1_40.json', 'no-dem6_r25_1_40.json', 'no-dem6_r50_1_40.json', 'no-dem7_r25_1_40.json', 'no-dem7_r50_1_0.json', 'no-dem8_r50_1_0.json', 'no-dem9_r25_1_0.json', 'uu-dem10_r25_1_0.json', 'uu-dem10_r25_1_40.json', 'uu-dem1_r50_1_0.json', 'uu-dem2_r25_1_0.json', 'uu-dem2_r25_1_40.json', 'uu-dem3_r25_1_0.json', 'uu-dem3_r50_1_40.json', 'uu-dem5_r50_1_0.json', 'uu-dem5_r50_1_40.json', 'uu-dem6_r50_1_0.json', 'uu-dem7_r25_1_40.json', 'uu-dem8_r25_1_40.json', 'uu-dem8_r50_1_40.json', 'uu-dem9_r25_1_0.json', 'uu-dem9_r25_1_40.json', 'uu-dem9_r50_1_40.json']\n"
     ]
    }
   ],
   "source": [
    "regen_layer = []\n",
    "regen_hop = []\n",
    "for i in sorted(layer_mfea.keys()):\n",
    "#     print(i, layer_data[i], layer_mfea[i])\n",
    "    if layer_data[i] < layer_mfea[i]:\n",
    "#         print(i)\n",
    "#         regen.append(i[:-5])\n",
    "        regen_layer.append(i)\n",
    "for i in sorted(hop_mfea.keys()):\n",
    "    if hop_data[i] < hop_mfea[i]:\n",
    "#         print(i)\n",
    "#         regen.append('_'.join(i.split('_')[:-1]))\n",
    "        regen_hop.append(i)\n",
    "#     print(i, hop_data[i], hop_mfea[i])\n",
    "print(regen_layer)\n",
    "print(regen_hop)"
   ]
  },
  {
   "cell_type": "code",
   "execution_count": 14,
   "metadata": {},
   "outputs": [
    {
     "data": {
      "text/plain": [
       "18"
      ]
     },
     "execution_count": 14,
     "metadata": {},
     "output_type": "execute_result"
    }
   ],
   "source": [
    "regen = len(set(regen))"
   ]
  },
  {
   "cell_type": "code",
   "execution_count": 17,
   "metadata": {},
   "outputs": [
    {
     "data": {
      "text/plain": [
       "['ga-dem3_r25_1.json',\n",
       " 'ga-dem8_r25_1.json',\n",
       " 'no-dem1_r25_1.json',\n",
       " 'no-dem2_r25_1.json',\n",
       " 'no-dem5_r25_1.json',\n",
       " 'no-dem8_r50_1.json',\n",
       " 'uu-dem1_r25_1.json',\n",
       " 'uu-dem2_r25_1.json',\n",
       " 'uu-dem3_r25_1.json',\n",
       " 'uu-dem3_r50_1.json',\n",
       " 'uu-dem4_r25_1.json',\n",
       " 'uu-dem6_r25_1.json',\n",
       " 'ga-dem10_r25_1.json',\n",
       " 'ga-dem2_r25_1.json',\n",
       " 'ga-dem3_r25_1.json',\n",
       " 'ga-dem4_r25_1.json',\n",
       " 'no-dem5_r25_1.json',\n",
       " 'no-dem8_r25_1.json',\n",
       " 'uu-dem10_r50_1.json',\n",
       " 'uu-dem1_r25_1.json',\n",
       " 'uu-dem5_r25_1.json']"
      ]
     },
     "execution_count": 17,
     "metadata": {},
     "output_type": "execute_result"
    }
   ],
   "source": [
    "[x + '.json' for x in regen]"
   ]
  },
  {
   "cell_type": "code",
   "execution_count": 18,
   "metadata": {
    "scrolled": false
   },
   "outputs": [
    {
     "data": {
      "text/plain": [
       "['ga-dem3_r25_1',\n",
       " 'ga-dem8_r25_1',\n",
       " 'no-dem1_r25_1',\n",
       " 'no-dem2_r25_1',\n",
       " 'no-dem5_r25_1',\n",
       " 'no-dem8_r50_1',\n",
       " 'uu-dem1_r25_1',\n",
       " 'uu-dem2_r25_1',\n",
       " 'uu-dem3_r25_1',\n",
       " 'uu-dem3_r50_1',\n",
       " 'uu-dem4_r25_1',\n",
       " 'uu-dem6_r25_1',\n",
       " 'ga-dem10_r25_1',\n",
       " 'ga-dem2_r25_1',\n",
       " 'ga-dem3_r25_1',\n",
       " 'ga-dem4_r25_1',\n",
       " 'no-dem5_r25_1',\n",
       " 'no-dem8_r25_1',\n",
       " 'uu-dem10_r50_1',\n",
       " 'uu-dem1_r25_1',\n",
       " 'uu-dem5_r25_1']"
      ]
     },
     "execution_count": 18,
     "metadata": {},
     "output_type": "execute_result"
    }
   ],
   "source": [
    "regen"
   ]
  },
  {
   "cell_type": "code",
   "execution_count": 19,
   "metadata": {},
   "outputs": [
    {
     "data": {
      "text/plain": [
       "17"
      ]
     },
     "execution_count": 19,
     "metadata": {},
     "output_type": "execute_result"
    }
   ],
   "source": [
    "len(['ga-dem3_r25_1.json', 'ga-dem8_r25_1.json', 'no-dem1_r25_1.json', 'no-dem2_r25_1.json', 'uu-dem1_r25_1.json', 'uu-dem2_r25_1.json', 'uu-dem3_r25_1.json', 'uu-dem4_r25_1.json', 'uu-dem6_r25_1.json', 'ga-dem10_r25_1.json', 'ga-dem2_r25_1.json', 'ga-dem3_r25_1.json', 'ga-dem4_r25_1.json', 'no-dem8_r25_1.json', 'uu-dem10_r50_1.json', 'uu-dem1_r25_1.json', 'uu-dem5_r25_1.json'])"
   ]
  },
  {
   "cell_type": "code",
   "execution_count": 20,
   "metadata": {},
   "outputs": [
    {
     "data": {
      "text/plain": [
       "False"
      ]
     },
     "execution_count": 20,
     "metadata": {},
     "output_type": "execute_result"
    }
   ],
   "source": [
    "float('inf') > float('inf')"
   ]
  },
  {
   "cell_type": "code",
   "execution_count": null,
   "metadata": {},
   "outputs": [],
   "source": []
  }
 ],
 "metadata": {
  "kernelspec": {
   "display_name": "Python 3",
   "language": "python",
   "name": "python3"
  },
  "language_info": {
   "codemirror_mode": {
    "name": "ipython",
    "version": 3
   },
   "file_extension": ".py",
   "mimetype": "text/x-python",
   "name": "python",
   "nbconvert_exporter": "python",
   "pygments_lexer": "ipython3",
   "version": "3.7.2"
  }
 },
 "nbformat": 4,
 "nbformat_minor": 2
}
