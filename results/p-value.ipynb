{
 "cells": [
  {
   "cell_type": "code",
   "execution_count": 3,
   "metadata": {},
   "outputs": [],
   "source": [
    "from scipy import stats\n",
    "from IPython.display import HTML, display\n",
    "import tabulate"
   ]
  },
  {
   "cell_type": "code",
   "execution_count": 4,
   "metadata": {},
   "outputs": [],
   "source": [
    "single_hop_data = \"\"\"0.002874419\t0.002874419\t0.002874419\t0.002874419\t0.002874419\n",
    "0.001050893\t0.001031119\t0.001091028\t0.001009214\t0.001016044\n",
    "0.001366777\t0.001296822\t0.001248299\t0.001243943\t0.001253287\n",
    "0.001009951\t0.001052609\t0.001007384\t0.001051274\t0.000980196\n",
    "0.001090092\t0.001165349\t0.001040973\t0.001201645\t0.001204841\n",
    "0.001262742\t0.001224166\t0.00113877\t0.001184989\t0.001102849\n",
    "0.001320069\t0.001331205\t0.001247724\t0.001297277\t0.001212747\n",
    "0.001519256\t0.001519256\t0.001519256\t0.001519256\t0.001519256\n",
    "0.001092941\t0.001062426\t0.000987685\t0.001066004\t0.001029556\n",
    "0.001008225\t0.001109346\t0.000971384\t0.001045707\t0.000971252\n",
    "0.001571335\t0.001571335\t0.001571335\t0.001571335\t0.001571335\n",
    "0.001274759\t0.001109911\t0.00104165\t0.001069262\t0.001045567\n",
    "0.00150803\t0.00150803\t0.00150803\t0.00150803\t0.00150803\n",
    "0.001205388\t0.001207362\t0.001207757\t0.001209064\t0.001170972\n",
    "0.00108647\t0.001094909\t0.001006207\t0.001121875\t0.001005864\n",
    "0.001088146\t0.001165306\t0.00107389\t0.001112119\t0.001035307\n",
    "0.001313259\t0.001274125\t0.001269513\t0.00127291\t0.001269731\n",
    "0.001307782\t0.001264799\t0.001252199\t0.0012682\t0.001240391\n",
    "0.002051547\t0.002010364\t0.002010364\t0.002010364\t0.002010364\n",
    "0.001533431\t0.001413612\t0.001413612\t0.001413612\t0.001413612\n",
    "0.001205331\t0.001205715\t0.001169666\t0.001153523\t0.001169425\n",
    "0.001196737\t0.001176603\t0.001171433\t0.001171433\t0.001171433\n",
    "0.001705841\t0.001705841\t0.001705841\t0.001705841\t0.001705841\n",
    "0.001458456\t0.001458456\t0.001458456\t0.001458456\t0.001458456\n",
    "0.002191165\t0.002191165\t0.002191165\t0.002191165\t0.002191165\n",
    "0.001596963\t0.001596963\t0.001596963\t0.001596963\t0.001596963\n",
    "0.002336835\t0.002336835\t0.002336835\t0.002336835\t0.002336835\n",
    "0.001933124\t0.001933124\t0.001933124\t0.001933124\t0.001933124\n",
    "0.001865463\t0.001826651\t0.001826651\t0.001826651\t0.001826651\n",
    "0.001524553\t0.001401046\t0.001401046\t0.001401046\t0.001401046\n",
    "0.001772825\t0.001756923\t0.001758243\t0.001755095\t0.001756292\n",
    "0.00266609\t0.00266609\t0.00266609\t0.00266609\t0.00266609\n",
    "0.002956322\t0.002956322\t0.002956322\t0.002956322\t0.002956322\n",
    "0.002388171\t0.002388171\t0.002388171\t0.002388171\t0.002388171\n",
    "0.002703457\t0.002703457\t0.002703457\t0.002703457\t0.002703457\n",
    "0.002685509\t0.002685509\t0.002685509\t0.002685509\t0.002685509\n",
    "0.00257455\t0.00248505\t0.00248505\t0.002514884\t0.00248505\n",
    "0.003026943\t0.003026943\t0.003026943\t0.003026943\t0.003026943\n",
    "0.001778792\t0.001751493\t0.001751493\t0.001751493\t0.001751493\n",
    "0.044051844\t0.044051844\t0.044051844\t0.044051844\t0.044051844\"\"\"\n",
    "\n",
    "multi_hop_data = \"\"\"0.002103287\t0.001671054\t0.00182141\t0.001674311\t0.001791669\n",
    "0.001890697\t0.001648535\t0.001704093\t0.001718202\t0.001733998\n",
    "0.002195557\t0.001654061\t0.001849282\t0.00164468\t0.001682028\n",
    "0.001670601\t0.001584103\t0.001659764\t0.001500296\t0.001573724\n",
    "0.001732869\t0.001640488\t0.001741474\t0.001710044\t0.0016763\n",
    "0.001684406\t0.001631598\t0.001463193\t0.001493115\t0.001493492\n",
    "0.00179346\t0.001815054\t0.001669948\t0.001632889\t0.001565694\n",
    "0.001881884\t0.001624282\t0.001604347\t0.001544135\t0.001553241\n",
    "0.001701081\t0.001554809\t0.001575012\t0.001476149\t0.001435714\n",
    "0.001589264\t0.001613239\t0.001565761\t0.001552377\t0.001534379\n",
    "0.001723348\t0.001646742\t0.001716787\t0.001490254\t0.001540532\n",
    "0.001600103\t0.001603054\t0.001583481\t0.001528581\t0.001541625\n",
    "0.001591159\t0.001621369\t0.001556289\t0.001527162\t0.001540887\n",
    "0.001858377\t0.001603927\t0.001588276\t0.001552302\t0.001563073\n",
    "0.001355083\t0.001583958\t0.001573809\t0.001500921\t0.00147376\n",
    "0.001655619\t0.001647763\t0.001490087\t0.001541479\t0.001502962\n",
    "0.001743687\t0.001792812\t0.001764782\t0.001643218\t0.00161905\n",
    "0.001567959\t0.001657366\t0.001572819\t0.001545866\t0.00152119\n",
    "0.001795231\t0.002042336\t0.002008067\t0.001944998\t0.001890206\n",
    "0.001891852\t0.00188402\t0.001702137\t0.00169974\t0.001740181\n",
    "0.00145008\t0.001548157\t0.001593713\t0.001483148\t0.0014601\n",
    "0.001488829\t0.001466415\t0.00147956\t0.001441655\t0.001463422\n",
    "0.001680699\t0.001572611\t0.001618643\t0.001502597\t0.001511046\n",
    "0.001581289\t0.001629852\t0.001506924\t0.001453127\t0.001464836\n",
    "0.001516268\t0.001569473\t0.001573565\t0.001520979\t0.001552444\n",
    "0.001554467\t0.001579704\t0.001510863\t0.001422944\t0.001469312\n",
    "0.001440238\t0.001474527\t0.001553889\t0.001429653\t0.001449194\n",
    "0.001513255\t0.001454971\t0.00150048\t0.001430147\t0.001398936\n",
    "0.001844222\t0.001967078\t0.00197407\t0.00188732\t0.001970339\n",
    "0.001858068\t0.001792942\t0.001664974\t0.001625841\t0.001632414\n",
    "0.002233339\t0.001935892\t0.002123764\t0.002029869\t0.00197054\n",
    "0.002552289\t0.002451218\t0.001987116\t0.002019921\t0.002198601\n",
    "0.002559184\t0.002434084\t0.002052022\t0.002157643\t0.002137904\n",
    "0.002332306\t0.002271896\t0.002164595\t0.002072222\t0.002074722\n",
    "0.002182174\t0.00224656\t0.002275844\t0.002235253\t0.002230782\n",
    "0.00229196\t0.001842267\t0.001927152\t0.002061061\t0.001882821\n",
    "0.002431355\t0.002190584\t0.002051867\t0.002330802\t0.002168105\n",
    "0.002707655\t0.001799719\t0.002011933\t0.002181611\t0.001986098\n",
    "0.002006303\t0.001899524\t0.001861176\t0.001887528\t0.001821271\n",
    "0.002237519\t0.002304416\t0.002299946\t0.002156089\t0.002184617\n",
    "0.001858434\t0.001788728\t0.00183257\t0.001823981\t0.001785422\n",
    "0.001670301\t0.001707399\t0.001702691\t0.001716724\t0.00163005\n",
    "0.001889033\t0.00200069\t0.001930403\t0.001897981\t0.001894573\n",
    "0.002759601\t0.002902087\t0.002725804\t0.002570868\t0.002693845\n",
    "0.002325601\t0.002097746\t0.002006523\t0.001982459\t0.002204462\n",
    "0.001880268\t0.001936867\t0.00193192\t0.001944019\t0.001835261\n",
    "0.001758977\t0.001852212\t0.001833989\t0.001731625\t0.001790687\n",
    "0.001709668\t0.001769628\t0.001641955\t0.001811838\t0.001699173\n",
    "0.003255685\t0.003340451\t0.003334756\t0.003093\t0.003061509\n",
    "0.003055557\t0.003213674\t0.003135202\t0.002938513\t0.003041897\"\"\""
   ]
  },
  {
   "cell_type": "code",
   "execution_count": 7,
   "metadata": {},
   "outputs": [
    {
     "data": {
      "text/html": [
       "<table>\n",
       "<tbody>\n",
       "<tr><td>       </td><td>MT2  </td><td>MT31 </td><td>MT13 </td><td>MT6  </td></tr>\n",
       "<tr><td>Type 1S</td><td>False</td><td>True </td><td>False</td><td>False</td></tr>\n",
       "<tr><td>Type 2S</td><td>False</td><td>True </td><td>False</td><td>True </td></tr>\n",
       "<tr><td>Type 3S</td><td>False</td><td>False</td><td>True </td><td>False</td></tr>\n",
       "<tr><td>Type 4S</td><td>False</td><td>False</td><td>False</td><td>False</td></tr>\n",
       "</tbody>\n",
       "</table>"
      ],
      "text/plain": [
       "<IPython.core.display.HTML object>"
      ]
     },
     "metadata": {},
     "output_type": "display_data"
    }
   ],
   "source": [
    "table = [['', 'MT2', 'MT31', 'MT13', 'MT6']]\n",
    "for i in range(4):\n",
    "    row = ['Type '+str(i+1)+'S']\n",
    "    for mt in range(1, 5):\n",
    "        ds1 = [float(tmp.split('\\t')[0]) for tmp in single_hop_data.split('\\n')][i*10:i*10+10]\n",
    "        ds2 = [float(tmp.split('\\t')[mt]) for tmp in single_hop_data.split('\\n')][i*10:i*10+10]        \n",
    "        val = stats.ttest_rel(ds1, ds2)\n",
    "        row.append(round(val.pvalue/2,4)<0.05)\n",
    "    table.append(row)\n",
    "    \n",
    "display(HTML(tabulate.tabulate(table, tablefmt='html')))"
   ]
  },
  {
   "cell_type": "code",
   "execution_count": 8,
   "metadata": {},
   "outputs": [
    {
     "data": {
      "text/html": [
       "<table>\n",
       "<tbody>\n",
       "<tr><td>       </td><td>MT2  </td><td>MT31 </td><td>MT13 </td><td>MT6  </td></tr>\n",
       "<tr><td>Type 1S</td><td>False</td><td>True </td><td>False</td><td>False</td></tr>\n",
       "<tr><td>Type 2S</td><td>False</td><td>True </td><td>False</td><td>True </td></tr>\n",
       "<tr><td>Type 3S</td><td>False</td><td>False</td><td>True </td><td>False</td></tr>\n",
       "<tr><td>Type 4S</td><td>False</td><td>False</td><td>False</td><td>False</td></tr>\n",
       "<tr><td>Type 1M</td><td>True </td><td>True </td><td>True </td><td>True </td></tr>\n",
       "<tr><td>Type 2M</td><td>False</td><td>False</td><td>False</td><td>True </td></tr>\n",
       "<tr><td>Type 3M</td><td>False</td><td>False</td><td>True </td><td>False</td></tr>\n",
       "<tr><td>Type 4M</td><td>True </td><td>True </td><td>True </td><td>True </td></tr>\n",
       "<tr><td>Type 5M</td><td>False</td><td>False</td><td>False</td><td>True </td></tr>\n",
       "</tbody>\n",
       "</table>"
      ],
      "text/plain": [
       "<IPython.core.display.HTML object>"
      ]
     },
     "metadata": {},
     "output_type": "display_data"
    }
   ],
   "source": [
    "# table.append(['Multi', 'MT2', 'MT31', 'MT13', 'MT6'])\n",
    "for i in range(5):\n",
    "    row = ['Type '+str(i+1)+'M']\n",
    "    for mt in range(1, 5):\n",
    "        ds1 = [float(tmp.split('\\t')[0]) for tmp in multi_hop_data.split('\\n')][i*10:i*10+10]\n",
    "        ds2 = [float(tmp.split('\\t')[mt]) for tmp in multi_hop_data.split('\\n')][i*10:i*10+10]\n",
    "        val = stats.ttest_rel(ds1, ds2)\n",
    "        row.append(round(val.pvalue/2,4)<0.05)\n",
    "    table.append(row)\n",
    "    \n",
    "display(HTML(tabulate.tabulate(table, tablefmt='html')))"
   ]
  },
  {
   "cell_type": "code",
   "execution_count": 29,
   "metadata": {},
   "outputs": [
    {
     "data": {
      "text/html": [
       "<table>\n",
       "<tbody>\n",
       "<tr><td>      </td><td>MT2                 </td><td>MT31                 </td><td>MT13                 </td><td>MT6                   </td></tr>\n",
       "<tr><td>type 1</td><td>0.007149007435028843</td><td>0.0014772320838576142</td><td>0.000886560482221037 </td><td>0.00042825912888448556</td></tr>\n",
       "<tr><td>type 2</td><td>0.2625388647045229  </td><td>0.33154485707904274  </td><td>0.05880106640678875  </td><td>0.030509545569820818  </td></tr>\n",
       "<tr><td>type 3</td><td>0.2995036075597171  </td><td>0.44351113713576096  </td><td>0.017641604127933738 </td><td>0.06567768552396114   </td></tr>\n",
       "<tr><td>type 4</td><td>0.021542768914321612</td><td>0.0046421365747923785</td><td>0.0017936296194829067</td><td>0.0010167166333813317 </td></tr>\n",
       "<tr><td>type 5</td><td>0.1250829739813291  </td><td>0.41208025187624037  </td><td>0.08368814674775404  </td><td>0.01644536315966709   </td></tr>\n",
       "</tbody>\n",
       "</table>"
      ],
      "text/plain": [
       "<IPython.core.display.HTML object>"
      ]
     },
     "metadata": {},
     "output_type": "display_data"
    }
   ],
   "source": [
    "table = [[' ', 'MT2', 'MT31', 'MT13', 'MT6']]\n",
    "for i in range(5):\n",
    "    row = ['type '+str(i+1)]\n",
    "    for mt in range(1, 5):\n",
    "        ds1 = [float(tmp.split('\\t')[0]) for tmp in multi_hop_data.split('\\n')][i*10:i*10+10]\n",
    "        ds2 = [float(tmp.split('\\t')[mt]) for tmp in multi_hop_data.split('\\n')][i*10:i*10+10]\n",
    "        val = stats.ttest_rel(ds1, ds2)\n",
    "        row.append(val.pvalue/2)\n",
    "    table.append(row)\n",
    "    \n",
    "display(HTML(tabulate.tabulate(table, tablefmt='html')))"
   ]
  },
  {
   "cell_type": "code",
   "execution_count": 79,
   "metadata": {},
   "outputs": [
    {
     "data": {
      "text/html": [
       "<table>\n",
       "<tbody>\n",
       "<tr><td>all</td><td style=\"text-align: right;\">0.0191921</td><td style=\"text-align: right;\">0.000715995</td><td style=\"text-align: right;\">1.838e-07</td><td style=\"text-align: right;\">1.106e-07</td></tr>\n",
       "</tbody>\n",
       "</table>"
      ],
      "text/plain": [
       "<IPython.core.display.HTML object>"
      ]
     },
     "metadata": {},
     "output_type": "display_data"
    }
   ],
   "source": [
    "table = []\n",
    "row = ['all']\n",
    "for mt in range(1, 5):\n",
    "    ds1 = [float(tmp.split('\\t')[0]) for tmp in multi_hop_data.split('\\n')]\n",
    "    ds2 = [float(tmp.split('\\t')[mt]) for tmp in multi_hop_data.split('\\n')]\n",
    "    val = stats.ttest_rel(ds1, ds2)\n",
    "    row.append(round(val.pvalue/2,10))\n",
    "table.append(row)\n",
    "    \n",
    "display(HTML(tabulate.tabulate(table, tablefmt='html')))"
   ]
  },
  {
   "cell_type": "code",
   "execution_count": 80,
   "metadata": {},
   "outputs": [
    {
     "data": {
      "text/html": [
       "<table>\n",
       "<tbody>\n",
       "<tr><td>all</td><td style=\"text-align: right;\">0.040359</td><td style=\"text-align: right;\">8.16901e-05</td><td style=\"text-align: right;\">0.00915262</td><td style=\"text-align: right;\">0.00014637</td></tr>\n",
       "</tbody>\n",
       "</table>"
      ],
      "text/plain": [
       "<IPython.core.display.HTML object>"
      ]
     },
     "metadata": {},
     "output_type": "display_data"
    }
   ],
   "source": [
    "table = []\n",
    "row = ['all']\n",
    "for mt in range(1, 5):\n",
    "    ds1 = [float(tmp.split('\\t')[0]) for tmp in single_hop_data.split('\\n')]\n",
    "    ds2 = [float(tmp.split('\\t')[mt]) for tmp in single_hop_data.split('\\n')]\n",
    "    val = stats.ttest_rel(ds1, ds2)\n",
    "    row.append(round(val.pvalue/2,10))\n",
    "table.append(row)\n",
    "    \n",
    "display(HTML(tabulate.tabulate(table, tablefmt='html')))"
   ]
  },
  {
   "cell_type": "code",
   "execution_count": null,
   "metadata": {},
   "outputs": [],
   "source": []
  }
 ],
 "metadata": {
  "kernelspec": {
   "display_name": "Python 3",
   "language": "python",
   "name": "python3"
  },
  "language_info": {
   "codemirror_mode": {
    "name": "ipython",
    "version": 3
   },
   "file_extension": ".py",
   "mimetype": "text/x-python",
   "name": "python",
   "nbconvert_exporter": "python",
   "pygments_lexer": "ipython3",
   "version": "3.7.2"
  }
 },
 "nbformat": 4,
 "nbformat_minor": 2
}
