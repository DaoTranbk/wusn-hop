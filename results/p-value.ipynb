{
 "cells": [
  {
   "cell_type": "code",
   "execution_count": 3,
   "metadata": {},
   "outputs": [],
   "source": [
    "from scipy import stats\n",
    "from IPython.display import HTML, display\n",
    "import tabulate\n",
    "import numpy as np"
   ]
  },
  {
   "cell_type": "code",
   "execution_count": 5,
   "metadata": {},
   "outputs": [],
   "source": [
    "single_hop_data = \"\"\"0.002874419\t0.002874419\t0.002874419\t0.002874419\t0.002874419\n",
    "0.001050893\t0.001031119\t0.001091028\t0.001009214\t0.001016044\n",
    "0.001366777\t0.001296822\t0.001248299\t0.001243943\t0.001253287\n",
    "0.001009951\t0.001052609\t0.001007384\t0.001051274\t0.000980196\n",
    "0.001090092\t0.001165349\t0.001040973\t0.001201645\t0.001204841\n",
    "0.001262742\t0.001224166\t0.00113877\t0.001184989\t0.001102849\n",
    "0.001320069\t0.001331205\t0.001247724\t0.001297277\t0.001212747\n",
    "0.001519256\t0.001519256\t0.001519256\t0.001519256\t0.001519256\n",
    "0.001092941\t0.001062426\t0.000987685\t0.001066004\t0.001029556\n",
    "0.001008225\t0.001109346\t0.000971384\t0.001045707\t0.000971252\n",
    "0.001571335\t0.001571335\t0.001571335\t0.001571335\t0.001571335\n",
    "0.001274759\t0.001109911\t0.00104165\t0.001069262\t0.001045567\n",
    "0.00150803\t0.00150803\t0.00150803\t0.00150803\t0.00150803\n",
    "0.001205388\t0.001207362\t0.001207757\t0.001209064\t0.001170972\n",
    "0.00108647\t0.001094909\t0.001006207\t0.001121875\t0.001005864\n",
    "0.001088146\t0.001165306\t0.00107389\t0.001112119\t0.001035307\n",
    "0.001313259\t0.001274125\t0.001269513\t0.00127291\t0.001269731\n",
    "0.001307782\t0.001264799\t0.001252199\t0.0012682\t0.001240391\n",
    "0.002051547\t0.002010364\t0.002010364\t0.002010364\t0.002010364\n",
    "0.001533431\t0.001413612\t0.001413612\t0.001413612\t0.001413612\n",
    "0.001205331\t0.001205715\t0.001169666\t0.001153523\t0.001169425\n",
    "0.001196737\t0.001176603\t0.001171433\t0.001171433\t0.001171433\n",
    "0.001705841\t0.001705841\t0.001705841\t0.001705841\t0.001705841\n",
    "0.001458456\t0.001458456\t0.001458456\t0.001458456\t0.001458456\n",
    "0.002191165\t0.002191165\t0.002191165\t0.002191165\t0.002191165\n",
    "0.001596963\t0.001596963\t0.001596963\t0.001596963\t0.001596963\n",
    "0.002336835\t0.002336835\t0.002336835\t0.002336835\t0.002336835\n",
    "0.001933124\t0.001933124\t0.001933124\t0.001933124\t0.001933124\n",
    "0.001865463\t0.001826651\t0.001826651\t0.001826651\t0.001826651\n",
    "0.001524553\t0.001401046\t0.001401046\t0.001401046\t0.001401046\n",
    "0.001772825\t0.001756923\t0.001758243\t0.001755095\t0.001756292\n",
    "0.00266609\t0.00266609\t0.00266609\t0.00266609\t0.00266609\n",
    "0.002956322\t0.002956322\t0.002956322\t0.002956322\t0.002956322\n",
    "0.002388171\t0.002388171\t0.002388171\t0.002388171\t0.002388171\n",
    "0.002703457\t0.002703457\t0.002703457\t0.002703457\t0.002703457\n",
    "0.002685509\t0.002685509\t0.002685509\t0.002685509\t0.002685509\n",
    "0.00257455\t0.00248505\t0.00248505\t0.002514884\t0.00248505\n",
    "0.003026943\t0.003026943\t0.003026943\t0.003026943\t0.003026943\n",
    "0.001778792\t0.001751493\t0.001751493\t0.001751493\t0.001751493\n",
    "0.044051844\t0.044051844\t0.044051844\t0.044051844\t0.044051844\"\"\"\n",
    "\n",
    "multi_hop_data = \"\"\"0.002103287\t0.001671054\t0.00182141\t0.001674311\t0.001791669\n",
    "0.001890697\t0.001648535\t0.001704093\t0.001718202\t0.001733998\n",
    "0.002195557\t0.001654061\t0.001849282\t0.00164468\t0.001682028\n",
    "0.001670601\t0.001584103\t0.001659764\t0.001500296\t0.001573724\n",
    "0.001732869\t0.001640488\t0.001741474\t0.001710044\t0.0016763\n",
    "0.001684406\t0.001631598\t0.001463193\t0.001493115\t0.001493492\n",
    "0.00179346\t0.001815054\t0.001669948\t0.001632889\t0.001565694\n",
    "0.001881884\t0.001624282\t0.001604347\t0.001544135\t0.001553241\n",
    "0.001701081\t0.001554809\t0.001575012\t0.001476149\t0.001435714\n",
    "0.001589264\t0.001613239\t0.001565761\t0.001552377\t0.001534379\n",
    "0.001723348\t0.001646742\t0.001716787\t0.001490254\t0.001540532\n",
    "0.001600103\t0.001603054\t0.001583481\t0.001528581\t0.001541625\n",
    "0.001591159\t0.001621369\t0.001556289\t0.001527162\t0.001540887\n",
    "0.001858377\t0.001603927\t0.001588276\t0.001552302\t0.001563073\n",
    "0.001355083\t0.001583958\t0.001573809\t0.001500921\t0.00147376\n",
    "0.001655619\t0.001647763\t0.001490087\t0.001541479\t0.001502962\n",
    "0.001743687\t0.001792812\t0.001764782\t0.001643218\t0.00161905\n",
    "0.001567959\t0.001657366\t0.001572819\t0.001545866\t0.00152119\n",
    "0.001795231\t0.002042336\t0.002008067\t0.001944998\t0.001890206\n",
    "0.001891852\t0.00188402\t0.001702137\t0.00169974\t0.001740181\n",
    "0.00145008\t0.001548157\t0.001593713\t0.001483148\t0.0014601\n",
    "0.001488829\t0.001466415\t0.00147956\t0.001441655\t0.001463422\n",
    "0.001680699\t0.001572611\t0.001618643\t0.001502597\t0.001511046\n",
    "0.001581289\t0.001629852\t0.001506924\t0.001453127\t0.001464836\n",
    "0.001516268\t0.001569473\t0.001573565\t0.001520979\t0.001552444\n",
    "0.001554467\t0.001579704\t0.001510863\t0.001422944\t0.001469312\n",
    "0.001440238\t0.001474527\t0.001553889\t0.001429653\t0.001449194\n",
    "0.001513255\t0.001454971\t0.00150048\t0.001430147\t0.001398936\n",
    "0.001844222\t0.001967078\t0.00197407\t0.00188732\t0.001970339\n",
    "0.001858068\t0.001792942\t0.001664974\t0.001625841\t0.001632414\n",
    "0.002233339\t0.001935892\t0.002123764\t0.002029869\t0.00197054\n",
    "0.002552289\t0.002451218\t0.001987116\t0.002019921\t0.002198601\n",
    "0.002559184\t0.002434084\t0.002052022\t0.002157643\t0.002137904\n",
    "0.002332306\t0.002271896\t0.002164595\t0.002072222\t0.002074722\n",
    "0.002182174\t0.00224656\t0.002275844\t0.002235253\t0.002230782\n",
    "0.00229196\t0.001842267\t0.001927152\t0.002061061\t0.001882821\n",
    "0.002431355\t0.002190584\t0.002051867\t0.002330802\t0.002168105\n",
    "0.002707655\t0.001799719\t0.002011933\t0.002181611\t0.001986098\n",
    "0.002006303\t0.001899524\t0.001861176\t0.001887528\t0.001821271\n",
    "0.002237519\t0.002304416\t0.002299946\t0.002156089\t0.002184617\n",
    "0.001858434\t0.001788728\t0.00183257\t0.001823981\t0.001785422\n",
    "0.001670301\t0.001707399\t0.001702691\t0.001716724\t0.00163005\n",
    "0.001889033\t0.00200069\t0.001930403\t0.001897981\t0.001894573\n",
    "0.002759601\t0.002902087\t0.002725804\t0.002570868\t0.002693845\n",
    "0.002325601\t0.002097746\t0.002006523\t0.001982459\t0.002204462\n",
    "0.001880268\t0.001936867\t0.00193192\t0.001944019\t0.001835261\n",
    "0.001758977\t0.001852212\t0.001833989\t0.001731625\t0.001790687\n",
    "0.001709668\t0.001769628\t0.001641955\t0.001811838\t0.001699173\n",
    "0.003255685\t0.003340451\t0.003334756\t0.003093\t0.003061509\n",
    "0.003055557\t0.003213674\t0.003135202\t0.002938513\t0.003041897\"\"\""
   ]
  },
  {
   "cell_type": "code",
   "execution_count": 6,
   "metadata": {},
   "outputs": [
    {
     "data": {
      "text/html": [
       "<table>\n",
       "<tbody>\n",
       "<tr><td>       </td><td>MT2  </td><td>MT31 </td><td>MT13 </td><td>MT6  </td></tr>\n",
       "<tr><td>Type 1S</td><td>False</td><td>True </td><td>False</td><td>False</td></tr>\n",
       "<tr><td>Type 2S</td><td>False</td><td>True </td><td>False</td><td>True </td></tr>\n",
       "<tr><td>Type 3S</td><td>False</td><td>False</td><td>True </td><td>False</td></tr>\n",
       "<tr><td>Type 4S</td><td>False</td><td>False</td><td>False</td><td>False</td></tr>\n",
       "</tbody>\n",
       "</table>"
      ],
      "text/plain": [
       "<IPython.core.display.HTML object>"
      ]
     },
     "metadata": {},
     "output_type": "display_data"
    }
   ],
   "source": [
    "table = [['', 'MT2', 'MT31', 'MT13', 'MT6']]\n",
    "for i in range(4):\n",
    "    row = ['Type '+str(i+1)+'S']\n",
    "    for mt in range(1, 5):\n",
    "        ds1 = [float(tmp.split('\\t')[0]) for tmp in single_hop_data.split('\\n')][i*10:i*10+10]\n",
    "        ds2 = [float(tmp.split('\\t')[mt]) for tmp in single_hop_data.split('\\n')][i*10:i*10+10]        \n",
    "        val = stats.ttest_rel(ds1, ds2)\n",
    "        row.append(round(val.pvalue/2,4)<0.05)\n",
    "    table.append(row)\n",
    "    \n",
    "display(HTML(tabulate.tabulate(table, tablefmt='html')))"
   ]
  },
  {
   "cell_type": "code",
   "execution_count": 7,
   "metadata": {},
   "outputs": [
    {
     "data": {
      "text/html": [
       "<table>\n",
       "<tbody>\n",
       "<tr><td>       </td><td>MT2  </td><td>MT31 </td><td>MT13 </td><td>MT6  </td></tr>\n",
       "<tr><td>Type 1S</td><td>False</td><td>True </td><td>False</td><td>False</td></tr>\n",
       "<tr><td>Type 2S</td><td>False</td><td>True </td><td>False</td><td>True </td></tr>\n",
       "<tr><td>Type 3S</td><td>False</td><td>False</td><td>True </td><td>False</td></tr>\n",
       "<tr><td>Type 4S</td><td>False</td><td>False</td><td>False</td><td>False</td></tr>\n",
       "<tr><td>Type 1M</td><td>True </td><td>True </td><td>True </td><td>True </td></tr>\n",
       "<tr><td>Type 2M</td><td>False</td><td>False</td><td>False</td><td>True </td></tr>\n",
       "<tr><td>Type 3M</td><td>False</td><td>False</td><td>True </td><td>False</td></tr>\n",
       "<tr><td>Type 4M</td><td>True </td><td>True </td><td>True </td><td>True </td></tr>\n",
       "<tr><td>Type 5M</td><td>False</td><td>False</td><td>False</td><td>True </td></tr>\n",
       "</tbody>\n",
       "</table>"
      ],
      "text/plain": [
       "<IPython.core.display.HTML object>"
      ]
     },
     "metadata": {},
     "output_type": "display_data"
    }
   ],
   "source": [
    "# table.append(['Multi', 'MT2', 'MT31', 'MT13', 'MT6'])\n",
    "for i in range(5):\n",
    "    row = ['Type '+str(i+1)+'M']\n",
    "    for mt in range(1, 5):\n",
    "        ds1 = [float(tmp.split('\\t')[0]) for tmp in multi_hop_data.split('\\n')][i*10:i*10+10]\n",
    "        ds2 = [float(tmp.split('\\t')[mt]) for tmp in multi_hop_data.split('\\n')][i*10:i*10+10]\n",
    "        val = stats.ttest_rel(ds1, ds2)\n",
    "        row.append(round(val.pvalue/2,4)<0.05)\n",
    "    table.append(row)\n",
    "    \n",
    "display(HTML(tabulate.tabulate(table, tablefmt='html')))"
   ]
  },
  {
   "cell_type": "code",
   "execution_count": 8,
   "metadata": {},
   "outputs": [
    {
     "data": {
      "text/html": [
       "<table>\n",
       "<tbody>\n",
       "<tr><td>      </td><td>MT2                 </td><td>MT31                 </td><td>MT13                 </td><td>MT6                   </td></tr>\n",
       "<tr><td>type 1</td><td>0.007149007435028843</td><td>0.0014772320838576142</td><td>0.000886560482221037 </td><td>0.00042825912888448556</td></tr>\n",
       "<tr><td>type 2</td><td>0.2625388647045229  </td><td>0.33154485707904274  </td><td>0.05880106640678875  </td><td>0.030509545569820818  </td></tr>\n",
       "<tr><td>type 3</td><td>0.2995036075597171  </td><td>0.44351113713576096  </td><td>0.017641604127933738 </td><td>0.06567768552396114   </td></tr>\n",
       "<tr><td>type 4</td><td>0.021542768914321612</td><td>0.0046421365747923785</td><td>0.0017936296194829067</td><td>0.0010167166333813317 </td></tr>\n",
       "<tr><td>type 5</td><td>0.1250829739813291  </td><td>0.41208025187624037  </td><td>0.08368814674775404  </td><td>0.01644536315966709   </td></tr>\n",
       "</tbody>\n",
       "</table>"
      ],
      "text/plain": [
       "<IPython.core.display.HTML object>"
      ]
     },
     "metadata": {},
     "output_type": "display_data"
    }
   ],
   "source": [
    "table = [[' ', 'MT2', 'MT31', 'MT13', 'MT6']]\n",
    "for i in range(5):\n",
    "    row = ['type '+str(i+1)]\n",
    "    for mt in range(1, 5):\n",
    "        ds1 = [float(tmp.split('\\t')[0]) for tmp in multi_hop_data.split('\\n')][i*10:i*10+10]\n",
    "        ds2 = [float(tmp.split('\\t')[mt]) for tmp in multi_hop_data.split('\\n')][i*10:i*10+10]\n",
    "        val = stats.ttest_rel(ds1, ds2)\n",
    "        row.append(val.pvalue/2)\n",
    "    table.append(row)\n",
    "    \n",
    "display(HTML(tabulate.tabulate(table, tablefmt='html')))"
   ]
  },
  {
   "cell_type": "code",
   "execution_count": 9,
   "metadata": {},
   "outputs": [
    {
     "data": {
      "text/html": [
       "<table>\n",
       "<tbody>\n",
       "<tr><td>all</td><td style=\"text-align: right;\">0.0191921</td><td style=\"text-align: right;\">0.000715995</td><td style=\"text-align: right;\">1.838e-07</td><td style=\"text-align: right;\">1.106e-07</td></tr>\n",
       "</tbody>\n",
       "</table>"
      ],
      "text/plain": [
       "<IPython.core.display.HTML object>"
      ]
     },
     "metadata": {},
     "output_type": "display_data"
    }
   ],
   "source": [
    "table = []\n",
    "row = ['all']\n",
    "for mt in range(1, 5):\n",
    "    ds1 = [float(tmp.split('\\t')[0]) for tmp in multi_hop_data.split('\\n')]\n",
    "    ds2 = [float(tmp.split('\\t')[mt]) for tmp in multi_hop_data.split('\\n')]\n",
    "    val = stats.ttest_rel(ds1, ds2)\n",
    "    row.append(round(val.pvalue/2,10))\n",
    "table.append(row)\n",
    "    \n",
    "display(HTML(tabulate.tabulate(table, tablefmt='html')))"
   ]
  },
  {
   "cell_type": "code",
   "execution_count": 10,
   "metadata": {},
   "outputs": [
    {
     "data": {
      "text/html": [
       "<table>\n",
       "<tbody>\n",
       "<tr><td>all</td><td style=\"text-align: right;\">0.040359</td><td style=\"text-align: right;\">8.16901e-05</td><td style=\"text-align: right;\">0.00915262</td><td style=\"text-align: right;\">0.00014637</td></tr>\n",
       "</tbody>\n",
       "</table>"
      ],
      "text/plain": [
       "<IPython.core.display.HTML object>"
      ]
     },
     "metadata": {},
     "output_type": "display_data"
    }
   ],
   "source": [
    "table = []\n",
    "row = ['all']\n",
    "for mt in range(1, 5):\n",
    "    ds1 = [float(tmp.split('\\t')[0]) for tmp in single_hop_data.split('\\n')]\n",
    "    ds2 = [float(tmp.split('\\t')[mt]) for tmp in single_hop_data.split('\\n')]\n",
    "    val = stats.ttest_rel(ds1, ds2)\n",
    "    row.append(round(val.pvalue/2,10))\n",
    "table.append(row)\n",
    "    \n",
    "display(HTML(tabulate.tabulate(table, tablefmt='html')))"
   ]
  },
  {
   "cell_type": "markdown",
   "metadata": {},
   "source": [
    "# Friedman test"
   ]
  },
  {
   "cell_type": "code",
   "execution_count": 11,
   "metadata": {},
   "outputs": [],
   "source": [
    "single_hop_data = [[float(tmp1) for tmp1 in tmp.split('\\t')] for tmp in single_hop_data.split('\\n')]"
   ]
  },
  {
   "cell_type": "code",
   "execution_count": 12,
   "metadata": {},
   "outputs": [],
   "source": [
    "single, mt2, mt31, mt13, mt6 = zip(*single_hop_data)"
   ]
  },
  {
   "cell_type": "code",
   "execution_count": 13,
   "metadata": {},
   "outputs": [
    {
     "data": {
      "text/plain": [
       "FriedmanchisquareResult(statistic=29.388235294117667, pvalue=4.1536106989061125e-07)"
      ]
     },
     "execution_count": 13,
     "metadata": {},
     "output_type": "execute_result"
    }
   ],
   "source": [
    "stats.friedmanchisquare(*[single, mt31, mt6])"
   ]
  },
  {
   "cell_type": "code",
   "execution_count": 14,
   "metadata": {},
   "outputs": [
    {
     "name": "stdout",
     "output_type": "stream",
     "text": [
      "          0         1         2         3         4\n",
      "0  1.000000  0.743201  0.011328  0.226127  0.001458\n",
      "1  0.743201  1.000000  0.241843  0.883657  0.067537\n",
      "2  0.011328  0.241843  1.000000  0.763265  0.900000\n",
      "3  0.226127  0.883657  0.763265  1.000000  0.437421\n",
      "4  0.001458  0.067537  0.900000  0.437421  1.000000\n",
      "\n",
      "          0         1         2         3         4\n",
      "0  1.000000  0.850901  0.034909  0.360551  0.006365\n",
      "1  0.850901  1.000000  0.378972  0.932315  0.144310\n",
      "2  0.034909  0.378972  1.000000  0.864760  0.988487\n",
      "3  0.360551  0.932315  0.864760  1.000000  0.578104\n",
      "4  0.006365  0.144310  0.988487  0.578104  1.000000\n"
     ]
    }
   ],
   "source": [
    "import scikit_posthocs as sp\n",
    "print(sp.posthoc_nemenyi_friedman(np.array([single, mt2, mt31, mt13, mt6]).T))\n",
    "print()\n",
    "print(sp.posthoc_miller_friedman(np.array([single, mt2, mt31, mt13, mt6]).T))"
   ]
  },
  {
   "cell_type": "code",
   "execution_count": 15,
   "metadata": {},
   "outputs": [],
   "source": [
    "multi_hop_data = [[float(tmp1) for tmp1 in tmp.split('\\t')] for tmp in multi_hop_data.split('\\n')]"
   ]
  },
  {
   "cell_type": "code",
   "execution_count": 16,
   "metadata": {},
   "outputs": [],
   "source": [
    "singlem, mt2m, mt31m, mt13m, mt6m = zip(*multi_hop_data)"
   ]
  },
  {
   "cell_type": "code",
   "execution_count": 17,
   "metadata": {},
   "outputs": [
    {
     "data": {
      "text/plain": [
       "FriedmanchisquareResult(statistic=56.86400000000003, pvalue=1.3211711006547653e-11)"
      ]
     },
     "execution_count": 17,
     "metadata": {},
     "output_type": "execute_result"
    }
   ],
   "source": [
    "stats.friedmanchisquare(*[singlem, mt2m, mt31m, mt13m, mt6m])"
   ]
  },
  {
   "cell_type": "code",
   "execution_count": 18,
   "metadata": {},
   "outputs": [
    {
     "name": "stdout",
     "output_type": "stream",
     "text": [
      "          0         1         2         3      4\n",
      "0  1.000000  0.900000  0.508007  0.001000  0.001\n",
      "1  0.900000  1.000000  0.687481  0.001000  0.001\n",
      "2  0.508007  0.687481  1.000000  0.002272  0.001\n",
      "3  0.001000  0.001000  0.002272  1.000000  0.900\n",
      "4  0.001000  0.001000  0.001000  0.900000  1.000\n",
      "\n",
      "          0         1         2         3         4\n",
      "0  1.000000  0.998791  0.644636  0.000015  0.000004\n",
      "1  0.998791  1.000000  0.808792  0.000068  0.000021\n",
      "2  0.644636  0.808792  1.000000  0.009250  0.003982\n",
      "3  0.000015  0.000068  0.009250  1.000000  0.999499\n",
      "4  0.000004  0.000021  0.003982  0.999499  1.000000\n"
     ]
    }
   ],
   "source": [
    "import scikit_posthocs as sp\n",
    "print(sp.posthoc_nemenyi_friedman(np.array([singlem, mt2m, mt31m, mt13m, mt6m]).T))\n",
    "print()\n",
    "print(sp.posthoc_miller_friedman(np.array([singlem, mt2m, mt31m, mt13m, mt6m]).T))"
   ]
  },
  {
   "cell_type": "code",
   "execution_count": 45,
   "metadata": {},
   "outputs": [
    {
     "name": "stdout",
     "output_type": "stream",
     "text": [
      "(5, 50)\n"
     ]
    }
   ],
   "source": [
    "npar = np.array([singlem, mt2m, mt31m, mt13m, mt6m])\n",
    "print(npar.shape)\n",
    "ranks = np.argsort(npar, axis=0)+1"
   ]
  },
  {
   "cell_type": "code",
   "execution_count": 46,
   "metadata": {},
   "outputs": [
    {
     "name": "stdout",
     "output_type": "stream",
     "text": [
      "[3.44 4.16 3.14 2.52 1.74]\n"
     ]
    }
   ],
   "source": [
    "print(np.mean(ranks, axis=1))"
   ]
  },
  {
   "cell_type": "code",
   "execution_count": 48,
   "metadata": {},
   "outputs": [
    {
     "name": "stdout",
     "output_type": "stream",
     "text": [
      "(5, 40)\n",
      "[2.5   2.8   3.025 3.55  3.125]\n"
     ]
    }
   ],
   "source": [
    "npar = np.array([single, mt2, mt31, mt13, mt6])\n",
    "\n",
    "print(npar.shape)\n",
    "ranks = np.argsort(npar, axis=0)+1\n",
    "print(np.mean(ranks, axis=1))"
   ]
  },
  {
   "cell_type": "code",
   "execution_count": 68,
   "metadata": {
    "scrolled": true
   },
   "outputs": [
    {
     "name": "stdout",
     "output_type": "stream",
     "text": [
      "[(0.002874419, 0), (0.002874419, 1), (0.002874419, 2), (0.002874419, 3), (0.002874419, 4)]\n",
      "[(0.001009214, 3), (0.001016044, 4), (0.001031119, 1), (0.001050893, 0), (0.001091028, 2)]\n",
      "[4, 3, 5, 1, 2]\n",
      "[(0.001243943, 3), (0.001248299, 2), (0.001253287, 4), (0.001296822, 1), (0.001366777, 0)]\n",
      "[5, 4, 2, 1, 3]\n",
      "[(0.000980196, 4), (0.001007384, 2), (0.001009951, 0), (0.001051274, 3), (0.001052609, 1)]\n",
      "[3, 5, 2, 4, 1]\n",
      "[(0.001040973, 2), (0.001090092, 0), (0.001165349, 1), (0.001201645, 3), (0.001204841, 4)]\n",
      "[2, 3, 1, 4, 5]\n",
      "[(0.001102849, 4), (0.00113877, 2), (0.001184989, 3), (0.001224166, 1), (0.001262742, 0)]\n",
      "[5, 4, 2, 3, 1]\n",
      "[(0.001212747, 4), (0.001247724, 2), (0.001297277, 3), (0.001320069, 0), (0.001331205, 1)]\n",
      "[4, 5, 2, 3, 1]\n",
      "[(0.001519256, 0), (0.001519256, 1), (0.001519256, 2), (0.001519256, 3), (0.001519256, 4)]\n",
      "[(0.000987685, 2), (0.001029556, 4), (0.001062426, 1), (0.001066004, 3), (0.001092941, 0)]\n",
      "[5, 3, 1, 4, 2]\n",
      "[(0.000971252, 4), (0.000971384, 2), (0.001008225, 0), (0.001045707, 3), (0.001109346, 1)]\n",
      "[3, 5, 2, 4, 1]\n",
      "[(0.001571335, 0), (0.001571335, 1), (0.001571335, 2), (0.001571335, 3), (0.001571335, 4)]\n",
      "[(0.00104165, 2), (0.001045567, 4), (0.001069262, 3), (0.001109911, 1), (0.001274759, 0)]\n",
      "[5, 4, 1, 3, 2]\n",
      "[(0.00150803, 0), (0.00150803, 1), (0.00150803, 2), (0.00150803, 3), (0.00150803, 4)]\n",
      "[(0.001170972, 4), (0.001205388, 0), (0.001207362, 1), (0.001207757, 2), (0.001209064, 3)]\n",
      "[2, 3, 4, 5, 1]\n",
      "[(0.001005864, 4), (0.001006207, 2), (0.00108647, 0), (0.001094909, 1), (0.001121875, 3)]\n",
      "[3, 4, 2, 5, 1]\n",
      "[(0.001035307, 4), (0.00107389, 2), (0.001088146, 0), (0.001112119, 3), (0.001165306, 1)]\n",
      "[3, 5, 2, 4, 1]\n",
      "[(0.001269513, 2), (0.001269731, 4), (0.00127291, 3), (0.001274125, 1), (0.001313259, 0)]\n",
      "[5, 4, 1, 3, 2]\n",
      "[(0.001240391, 4), (0.001252199, 2), (0.001264799, 1), (0.0012682, 3), (0.001307782, 0)]\n",
      "[5, 3, 2, 4, 1]\n",
      "[(0.002010364, 1), (0.002010364, 2), (0.002010364, 3), (0.002010364, 4), (0.002051547, 0)]\n",
      "[2, 1, 1, 1, 1]\n",
      "[(0.001413612, 1), (0.001413612, 2), (0.001413612, 3), (0.001413612, 4), (0.001533431, 0)]\n",
      "[2, 1, 1, 1, 1]\n",
      "[(0.001153523, 3), (0.001169425, 4), (0.001169666, 2), (0.001205331, 0), (0.001205715, 1)]\n",
      "[4, 5, 3, 1, 2]\n",
      "[(0.001171433, 2), (0.001171433, 3), (0.001171433, 4), (0.001176603, 1), (0.001196737, 0)]\n",
      "[3, 2, 1, 1, 1]\n",
      "[(0.001705841, 0), (0.001705841, 1), (0.001705841, 2), (0.001705841, 3), (0.001705841, 4)]\n",
      "[(0.001458456, 0), (0.001458456, 1), (0.001458456, 2), (0.001458456, 3), (0.001458456, 4)]\n",
      "[(0.002191165, 0), (0.002191165, 1), (0.002191165, 2), (0.002191165, 3), (0.002191165, 4)]\n",
      "[(0.001596963, 0), (0.001596963, 1), (0.001596963, 2), (0.001596963, 3), (0.001596963, 4)]\n",
      "[(0.002336835, 0), (0.002336835, 1), (0.002336835, 2), (0.002336835, 3), (0.002336835, 4)]\n",
      "[(0.001933124, 0), (0.001933124, 1), (0.001933124, 2), (0.001933124, 3), (0.001933124, 4)]\n",
      "[(0.001826651, 1), (0.001826651, 2), (0.001826651, 3), (0.001826651, 4), (0.001865463, 0)]\n",
      "[2, 1, 1, 1, 1]\n",
      "[(0.001401046, 1), (0.001401046, 2), (0.001401046, 3), (0.001401046, 4), (0.001524553, 0)]\n",
      "[2, 1, 1, 1, 1]\n",
      "[(0.001755095, 3), (0.001756292, 4), (0.001756923, 1), (0.001758243, 2), (0.001772825, 0)]\n",
      "[5, 3, 4, 1, 2]\n",
      "[(0.00266609, 0), (0.00266609, 1), (0.00266609, 2), (0.00266609, 3), (0.00266609, 4)]\n",
      "[(0.002956322, 0), (0.002956322, 1), (0.002956322, 2), (0.002956322, 3), (0.002956322, 4)]\n",
      "[(0.002388171, 0), (0.002388171, 1), (0.002388171, 2), (0.002388171, 3), (0.002388171, 4)]\n",
      "[(0.002703457, 0), (0.002703457, 1), (0.002703457, 2), (0.002703457, 3), (0.002703457, 4)]\n",
      "[(0.002685509, 0), (0.002685509, 1), (0.002685509, 2), (0.002685509, 3), (0.002685509, 4)]\n",
      "[(0.00248505, 1), (0.00248505, 2), (0.00248505, 4), (0.002514884, 3), (0.00257455, 0)]\n",
      "[3, 1, 1, 2, 1]\n",
      "[(0.003026943, 0), (0.003026943, 1), (0.003026943, 2), (0.003026943, 3), (0.003026943, 4)]\n",
      "[(0.001751493, 1), (0.001751493, 2), (0.001751493, 3), (0.001751493, 4), (0.001778792, 0)]\n",
      "[2, 1, 1, 1, 1]\n",
      "[(0.044051844, 0), (0.044051844, 1), (0.044051844, 2), (0.044051844, 3), (0.044051844, 4)]\n"
     ]
    }
   ],
   "source": [
    "arg_vals = []\n",
    "for i in np.array([single, mt2, mt31, mt13, mt6]).T:\n",
    "    ord_ = [(tmp2, tmp1) for tmp1, tmp2 in enumerate(i)]\n",
    "    arg_val = [0] * 5\n",
    "    ord_ = sorted(ord_, key=lambda x: x[0])\n",
    "    arg_val[ord_[0][1]] = 1\n",
    "    print(ord_)\n",
    "    \n",
    "    current = 1\n",
    "    for idx, (val, arg) in enumerate(ord_):\n",
    "        if idx == 0:\n",
    "            continue\n",
    "        if val == ord_[idx-1][0]:\n",
    "            arg_val[arg] = current\n",
    "            continue\n",
    "        else:\n",
    "            current += 1\n",
    "            arg_val[arg] = current\n",
    "    if current == 1:\n",
    "        continue\n",
    "    arg_vals.append(arg_val)\n",
    "    print(arg_val)"
   ]
  },
  {
   "cell_type": "code",
   "execution_count": 69,
   "metadata": {},
   "outputs": [
    {
     "data": {
      "text/plain": [
       "array([3.43478261, 3.08695652, 1.86956522, 2.52173913, 1.52173913])"
      ]
     },
     "execution_count": 69,
     "metadata": {},
     "output_type": "execute_result"
    }
   ],
   "source": [
    "np.mean(arg_vals, axis=0)"
   ]
  },
  {
   "cell_type": "markdown",
   "metadata": {},
   "source": [
    "# sp.posthoc_conover_friedman(np.array([single, mt2, mt31, mt13, mt6]).T)"
   ]
  },
  {
   "cell_type": "code",
   "execution_count": 42,
   "metadata": {},
   "outputs": [
    {
     "data": {
      "text/html": [
       "<div>\n",
       "<style scoped>\n",
       "    .dataframe tbody tr th:only-of-type {\n",
       "        vertical-align: middle;\n",
       "    }\n",
       "\n",
       "    .dataframe tbody tr th {\n",
       "        vertical-align: top;\n",
       "    }\n",
       "\n",
       "    .dataframe thead th {\n",
       "        text-align: right;\n",
       "    }\n",
       "</style>\n",
       "<table border=\"1\" class=\"dataframe\">\n",
       "  <thead>\n",
       "    <tr style=\"text-align: right;\">\n",
       "      <th></th>\n",
       "      <th>0</th>\n",
       "      <th>1</th>\n",
       "      <th>2</th>\n",
       "      <th>3</th>\n",
       "      <th>4</th>\n",
       "    </tr>\n",
       "  </thead>\n",
       "  <tbody>\n",
       "    <tr>\n",
       "      <th>0</th>\n",
       "      <td>1.000000e+00</td>\n",
       "      <td>7.531385e-01</td>\n",
       "      <td>0.116933</td>\n",
       "      <td>4.371256e-07</td>\n",
       "      <td>1.296924e-07</td>\n",
       "    </tr>\n",
       "    <tr>\n",
       "      <th>1</th>\n",
       "      <td>7.531385e-01</td>\n",
       "      <td>1.000000e+00</td>\n",
       "      <td>0.209247</td>\n",
       "      <td>1.886950e-06</td>\n",
       "      <td>5.886333e-07</td>\n",
       "    </tr>\n",
       "    <tr>\n",
       "      <th>2</th>\n",
       "      <td>1.169328e-01</td>\n",
       "      <td>2.092469e-01</td>\n",
       "      <td>1.000000</td>\n",
       "      <td>3.321989e-04</td>\n",
       "      <td>1.294336e-04</td>\n",
       "    </tr>\n",
       "    <tr>\n",
       "      <th>3</th>\n",
       "      <td>4.371256e-07</td>\n",
       "      <td>1.886950e-06</td>\n",
       "      <td>0.000332</td>\n",
       "      <td>1.000000e+00</td>\n",
       "      <td>8.013391e-01</td>\n",
       "    </tr>\n",
       "    <tr>\n",
       "      <th>4</th>\n",
       "      <td>1.296924e-07</td>\n",
       "      <td>5.886333e-07</td>\n",
       "      <td>0.000129</td>\n",
       "      <td>8.013391e-01</td>\n",
       "      <td>1.000000e+00</td>\n",
       "    </tr>\n",
       "  </tbody>\n",
       "</table>\n",
       "</div>"
      ],
      "text/plain": [
       "              0             1         2             3             4\n",
       "0  1.000000e+00  7.531385e-01  0.116933  4.371256e-07  1.296924e-07\n",
       "1  7.531385e-01  1.000000e+00  0.209247  1.886950e-06  5.886333e-07\n",
       "2  1.169328e-01  2.092469e-01  1.000000  3.321989e-04  1.294336e-04\n",
       "3  4.371256e-07  1.886950e-06  0.000332  1.000000e+00  8.013391e-01\n",
       "4  1.296924e-07  5.886333e-07  0.000129  8.013391e-01  1.000000e+00"
      ]
     },
     "execution_count": 42,
     "metadata": {},
     "output_type": "execute_result"
    }
   ],
   "source": [
    "sp.posthoc_conover_friedman(np.array([singlem, mt2m, mt31m, mt13m, mt6m]).T)"
   ]
  },
  {
   "cell_type": "code",
   "execution_count": 43,
   "metadata": {},
   "outputs": [
    {
     "data": {
      "text/plain": [
       "FriedmanchisquareResult(statistic=56.86400000000003, pvalue=1.3211711006547653e-11)"
      ]
     },
     "execution_count": 43,
     "metadata": {},
     "output_type": "execute_result"
    }
   ],
   "source": [
    "stats.friedmanchisquare(*[singlem, mt2m, mt31m, mt13m, mt6m])"
   ]
  },
  {
   "cell_type": "code",
   "execution_count": 44,
   "metadata": {},
   "outputs": [
    {
     "data": {
      "text/plain": [
       "FriedmanchisquareResult(statistic=37.2139303482588, pvalue=1.627451584001758e-07)"
      ]
     },
     "execution_count": 44,
     "metadata": {},
     "output_type": "execute_result"
    }
   ],
   "source": [
    "stats.friedmanchisquare(*[single, mt2, mt31, mt13, mt6])"
   ]
  },
  {
   "cell_type": "code",
   "execution_count": null,
   "metadata": {},
   "outputs": [],
   "source": []
  }
 ],
 "metadata": {
  "kernelspec": {
   "display_name": "Python 3",
   "language": "python",
   "name": "python3"
  },
  "language_info": {
   "codemirror_mode": {
    "name": "ipython",
    "version": 3
   },
   "file_extension": ".py",
   "mimetype": "text/x-python",
   "name": "python",
   "nbconvert_exporter": "python",
   "pygments_lexer": "ipython3",
   "version": "3.7.2"
  }
 },
 "nbformat": 4,
 "nbformat_minor": 2
}
