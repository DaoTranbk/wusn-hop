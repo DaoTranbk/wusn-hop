{
 "cells": [
  {
   "cell_type": "code",
   "execution_count": 18,
   "metadata": {},
   "outputs": [
    {
     "name": "stdout",
     "output_type": "stream",
     "text": [
      "120 60\n"
     ]
    }
   ],
   "source": [
    "import os\n",
    "import numpy as np\n",
    "\n",
    "hop_data = {}\n",
    "\n",
    "for fn in os.listdir('hop'):\n",
    "    with open(os.path.join('hop', fn)) as f:\n",
    "        lines = [tmp.replace('\\n', '') for tmp in f.readlines()]\n",
    "        hop_file = lines[0]\n",
    "        res = float(lines[-1].split('\\t')[-1])\n",
    "        if hop_file not in hop_data.keys():\n",
    "            hop_data[hop_file] = {fn: res}\n",
    "        else:\n",
    "            hop_data[hop_file][fn] = res\n",
    "        \n",
    "layer_data = {}\n",
    "\n",
    "for fn in os.listdir('layer'):\n",
    "    with open(os.path.join('layer', fn)) as f:\n",
    "        lines = [tmp.replace('\\n', '') for tmp in f.readlines()]\n",
    "        hop_file = lines[0]\n",
    "        res = float(lines[-1].split('\\t')[-1])\n",
    "        if hop_file not in layer_data.keys():\n",
    "            layer_data[hop_file] = {fn: res}\n",
    "        else:\n",
    "            layer_data[hop_file][fn] = res\n",
    "print(len(hop_data), len(layer_data))"
   ]
  },
  {
   "cell_type": "code",
   "execution_count": 19,
   "metadata": {},
   "outputs": [],
   "source": [
    "hop_mfea = {}\n",
    "layer_mfea = {}\n",
    "\n",
    "for fn in os.listdir('mfea'):\n",
    "    with open(os.path.join('mfea', fn)) as f:\n",
    "        lines = [tmp.replace('\\n', '') for tmp in f.readlines()]\n",
    "        hop_file, layer_file = lines[0].split(' ')\n",
    "        res_hop = float(lines[-2].split('\\t')[-1])\n",
    "        res_layer = float(lines[-1].split('\\t')[-1])\n",
    "        if hop_file in hop_mfea.keys():\n",
    "            hop_mfea[hop_file][fn] = res_hop\n",
    "        else:\n",
    "            hop_mfea[hop_file] = {fn: res_hop}\n",
    "        if layer_file in layer_mfea.keys():\n",
    "            layer_mfea[layer_file][fn] = res_layer\n",
    "        else:\n",
    "            layer_mfea[layer_file] = {fn: res_layer}"
   ]
  },
  {
   "cell_type": "code",
   "execution_count": 44,
   "metadata": {},
   "outputs": [
    {
     "name": "stdout",
     "output_type": "stream",
     "text": [
      "ga-dem2_r50_1_0.txt 0.001001806308474362 0.0012005820532899971\n",
      "ga-dem5_r50_1_3.txt 0.0010019087453084004 0.0012008142725377382\n",
      "ga-dem5_r50_1_0.txt 0.0010019087453084004 0.0012008142725377382\n",
      "ga-dem6_r50_1_7.txt 0.0010019920939654506 0.0012012881386273579\n",
      "ga-dem7_r50_1_0.txt 0.0012012157345254845 0.0012016441621735376\n",
      "ga-dem8_r50_1_4.txt 0.0012013875016623602 0.0012014818533208449\n",
      "no-dem1_r50_1_1.txt 0.0010019475662485192 0.0012009952913132876\n",
      "no-dem4_r25_1_4.txt 0.001000937787799186 0.0012006046181603869\n",
      "no-dem6_r50_1_7.txt 0.001001941053422807 0.0012007731262049853\n",
      "uu-dem10_r50_1_4.txt 0.0010014254281746453 0.0010014633695123879\n",
      "uu-dem10_r50_1_6.txt 0.0010014254281746453 0.0010014633695123879\n",
      "uu-dem1_r50_1_9.txt 0.0010017496515362036 0.0010017770740286603\n",
      "uu-dem3_r25_1_0.txt 0.0010007813355539649 0.001000867357113418\n",
      "uu-dem9_r25_1_5.txt 0.0010009476407604248 0.0010009710514460703\n",
      "-----\n",
      "['ga-dem2_r50_1_0.txt', 'ga-dem5_r50_1_3.txt', 'ga-dem5_r50_1_0.txt', 'ga-dem6_r50_1_7.txt', 'ga-dem7_r50_1_0.txt', 'ga-dem8_r50_1_4.txt', 'no-dem1_r50_1_1.txt', 'no-dem4_r25_1_4.txt', 'no-dem6_r50_1_7.txt', 'uu-dem10_r50_1_4.txt', 'uu-dem10_r50_1_6.txt', 'uu-dem1_r50_1_9.txt', 'uu-dem3_r25_1_0.txt', 'uu-dem9_r25_1_5.txt', 'ga-dem10_r25_1_0_0.txt', 'ga-dem10_r25_1_40_8.txt', 'ga-dem10_r50_1_0_6.txt', 'ga-dem10_r50_1_40_7.txt', 'ga-dem1_r25_1_0_7.txt', 'ga-dem1_r25_1_0_2.txt', 'ga-dem1_r25_1_40_7.txt', 'ga-dem1_r25_1_40_6.txt', 'ga-dem1_r25_1_40_4.txt', 'ga-dem1_r25_1_40_2.txt', 'ga-dem1_r25_1_40_8.txt', 'ga-dem1_r50_1_0_5.txt', 'ga-dem1_r50_1_40_9.txt', 'ga-dem1_r50_1_40_1.txt', 'ga-dem1_r50_1_40_3.txt', 'ga-dem2_r25_1_0_6.txt', 'ga-dem2_r25_1_0_4.txt', 'ga-dem2_r25_1_0_8.txt', 'ga-dem2_r25_1_40_8.txt', 'ga-dem2_r50_1_40_5.txt', 'ga-dem2_r50_1_40_3.txt', 'ga-dem2_r50_1_40_2.txt', 'ga-dem3_r25_1_0_2.txt', 'ga-dem3_r25_1_40_7.txt', 'ga-dem3_r50_1_0_3.txt', 'ga-dem3_r50_1_0_9.txt', 'ga-dem3_r50_1_40_1.txt', 'ga-dem4_r25_1_0_4.txt', 'ga-dem4_r25_1_40_8.txt', 'ga-dem4_r50_1_40_0.txt', 'ga-dem4_r50_1_40_2.txt', 'ga-dem5_r50_1_0_8.txt', 'ga-dem5_r50_1_0_4.txt', 'ga-dem5_r50_1_0_0.txt', 'ga-dem5_r50_1_40_5.txt', 'ga-dem5_r50_1_40_6.txt', 'ga-dem5_r50_1_40_3.txt', 'ga-dem5_r50_1_40_2.txt', 'ga-dem5_r50_1_40_1.txt', 'ga-dem6_r25_1_40_5.txt', 'ga-dem6_r25_1_40_6.txt', 'ga-dem6_r25_1_40_2.txt', 'ga-dem6_r25_1_40_3.txt', 'ga-dem6_r25_1_40_0.txt', 'ga-dem6_r25_1_40_8.txt', 'ga-dem6_r50_1_40_4.txt', 'ga-dem6_r50_1_40_5.txt', 'ga-dem6_r50_1_40_3.txt', 'ga-dem7_r25_1_0_6.txt', 'ga-dem7_r25_1_0_5.txt', 'ga-dem7_r25_1_0_1.txt', 'ga-dem7_r50_1_40_8.txt', 'ga-dem8_r25_1_0_6.txt', 'ga-dem8_r25_1_40_6.txt', 'ga-dem9_r25_1_40_4.txt', 'ga-dem9_r50_1_40_7.txt', 'ga-dem9_r50_1_40_1.txt', 'no-dem10_r25_1_0_1.txt', 'no-dem10_r25_1_0_5.txt', 'no-dem10_r25_1_0_7.txt', 'no-dem10_r25_1_0_9.txt', 'no-dem10_r50_1_0_9.txt', 'no-dem10_r50_1_0_4.txt', 'no-dem10_r50_1_40_9.txt', 'no-dem10_r50_1_40_0.txt', 'no-dem10_r50_1_40_5.txt', 'no-dem10_r50_1_40_4.txt', 'no-dem10_r50_1_40_6.txt', 'no-dem10_r50_1_40_7.txt', 'no-dem1_r25_1_0_3.txt', 'no-dem1_r25_1_0_1.txt', 'no-dem1_r25_1_0_7.txt', 'no-dem1_r25_1_0_8.txt', 'no-dem1_r25_1_40_9.txt', 'no-dem1_r50_1_40_6.txt', 'no-dem1_r50_1_40_7.txt', 'no-dem1_r50_1_40_1.txt', 'no-dem2_r25_1_0_1.txt', 'no-dem2_r25_1_40_5.txt', 'no-dem2_r50_1_40_8.txt', 'no-dem3_r25_1_0_3.txt', 'no-dem3_r25_1_0_5.txt', 'no-dem3_r25_1_40_3.txt', 'no-dem3_r25_1_40_2.txt', 'no-dem3_r50_1_40_7.txt', 'no-dem3_r50_1_40_8.txt', 'no-dem4_r25_1_0_9.txt', 'no-dem4_r25_1_0_4.txt', 'no-dem4_r25_1_0_5.txt', 'no-dem4_r25_1_0_6.txt', 'no-dem4_r25_1_40_0.txt', 'no-dem4_r50_1_40_1.txt', 'no-dem5_r25_1_0_4.txt', 'no-dem5_r25_1_40_8.txt', 'no-dem5_r25_1_40_6.txt', 'no-dem5_r25_1_40_0.txt', 'no-dem5_r50_1_40_5.txt', 'no-dem5_r50_1_40_6.txt', 'no-dem5_r50_1_40_3.txt', 'no-dem6_r50_1_0_8.txt', 'no-dem6_r50_1_0_7.txt', 'no-dem6_r50_1_0_2.txt', 'no-dem6_r50_1_0_3.txt', 'no-dem6_r50_1_40_2.txt', 'no-dem6_r50_1_40_0.txt', 'no-dem7_r25_1_0_9.txt', 'no-dem7_r25_1_0_4.txt', 'no-dem7_r50_1_0_1.txt', 'no-dem7_r50_1_0_8.txt', 'no-dem7_r50_1_40_1.txt', 'no-dem7_r50_1_40_2.txt', 'no-dem7_r50_1_40_6.txt', 'no-dem8_r25_1_0_6.txt', 'no-dem8_r25_1_40_3.txt', 'no-dem8_r25_1_40_2.txt', 'no-dem8_r50_1_40_3.txt', 'no-dem8_r50_1_40_0.txt', 'no-dem8_r50_1_40_6.txt', 'no-dem8_r50_1_40_7.txt', 'no-dem8_r50_1_40_8.txt', 'no-dem9_r25_1_40_8.txt', 'no-dem9_r25_1_40_6.txt', 'no-dem9_r25_1_40_5.txt', 'no-dem9_r25_1_40_0.txt', 'no-dem9_r50_1_0_7.txt', 'no-dem9_r50_1_40_2.txt', 'uu-dem1_r25_1_40_1.txt', 'uu-dem1_r50_1_40_2.txt', 'uu-dem1_r50_1_40_6.txt', 'uu-dem2_r25_1_0_6.txt', 'uu-dem2_r25_1_0_1.txt', 'uu-dem2_r25_1_0_0.txt', 'uu-dem2_r25_1_40_0.txt', 'uu-dem2_r25_1_40_6.txt', 'uu-dem2_r50_1_0_0.txt', 'uu-dem2_r50_1_0_1.txt', 'uu-dem2_r50_1_40_3.txt', 'uu-dem2_r50_1_40_2.txt', 'uu-dem3_r25_1_40_2.txt', 'uu-dem3_r50_1_0_1.txt', 'uu-dem3_r50_1_40_6.txt', 'uu-dem3_r50_1_40_5.txt', 'uu-dem3_r50_1_40_2.txt', 'uu-dem4_r25_1_40_2.txt', 'uu-dem4_r25_1_40_3.txt', 'uu-dem4_r25_1_40_1.txt', 'uu-dem4_r25_1_40_0.txt', 'uu-dem4_r50_1_0_9.txt', 'uu-dem4_r50_1_40_7.txt', 'uu-dem4_r50_1_40_6.txt', 'uu-dem4_r50_1_40_9.txt', 'uu-dem6_r25_1_0_6.txt', 'uu-dem6_r25_1_0_2.txt', 'uu-dem6_r50_1_0_5.txt', 'uu-dem6_r50_1_40_7.txt', 'uu-dem6_r50_1_40_6.txt', 'uu-dem6_r50_1_40_9.txt', 'uu-dem7_r25_1_0_0.txt', 'uu-dem7_r25_1_40_4.txt', 'uu-dem7_r25_1_40_6.txt', 'uu-dem7_r25_1_40_7.txt', 'uu-dem7_r25_1_40_3.txt', 'uu-dem7_r50_1_40_3.txt', 'uu-dem7_r50_1_40_2.txt', 'uu-dem8_r25_1_0_9.txt', 'uu-dem8_r25_1_40_1.txt', 'uu-dem8_r50_1_40_1.txt', 'uu-dem8_r50_1_40_9.txt', 'uu-dem9_r25_1_0_8.txt', 'uu-dem9_r25_1_0_4.txt', 'uu-dem9_r25_1_0_7.txt', 'uu-dem9_r25_1_0_3.txt', 'uu-dem9_r25_1_0_0.txt', 'uu-dem9_r25_1_40_9.txt', 'uu-dem9_r25_1_40_8.txt', 'uu-dem9_r25_1_40_3.txt', 'uu-dem9_r25_1_40_0.txt', 'uu-dem9_r25_1_40_4.txt', 'uu-dem9_r50_1_40_3.txt', 'uu-dem9_r50_1_40_5.txt', 'uu-dem9_r50_1_40_6.txt', 'uu-dem9_r50_1_40_8.txt']\n"
     ]
    }
   ],
   "source": [
    "regen_layer = []\n",
    "regen_hop = []\n",
    "def mean_woinf(li):\n",
    "    li = [tmp for tmp in li if tmp < 10]\n",
    "    return np.mean(li)\n",
    "\n",
    "x = []\n",
    "for i in sorted(layer_mfea.keys()):\n",
    "    min_obj_mfea = min(layer_mfea[i].values())\n",
    "    for pas, obj in layer_data[i].items():\n",
    "        if obj < min_obj_mfea: # or obj > 10:\n",
    "            x.append(pas)\n",
    "            print(pas, obj, min_obj_mfea)\n",
    "print('-----')\n",
    "for i in sorted(hop_mfea.keys()):\n",
    "    min_obj_mfea = min(hop_mfea[i].values())\n",
    "    for pas, obj in hop_data[i].items():\n",
    "        if obj < min_obj_mfea:\n",
    "            x.append(pas)\n",
    "#             print(pas, obj, min_obj_mfea)\n",
    "#     if hop_data[i] < hop_mfea[i]:\n",
    "# len(set([tmp[:-6] for tmp in x]))\n",
    "print(x)\n",
    "        "
   ]
  },
  {
   "cell_type": "code",
   "execution_count": 45,
   "metadata": {},
   "outputs": [
    {
     "data": {
      "text/plain": [
       "196"
      ]
     },
     "execution_count": 45,
     "metadata": {},
     "output_type": "execute_result"
    }
   ],
   "source": [
    "len(x)"
   ]
  },
  {
   "cell_type": "code",
   "execution_count": null,
   "metadata": {},
   "outputs": [],
   "source": [
    "# 196"
   ]
  }
 ],
 "metadata": {
  "kernelspec": {
   "display_name": "Python 3",
   "language": "python",
   "name": "python3"
  },
  "language_info": {
   "codemirror_mode": {
    "name": "ipython",
    "version": 3
   },
   "file_extension": ".py",
   "mimetype": "text/x-python",
   "name": "python",
   "nbconvert_exporter": "python",
   "pygments_lexer": "ipython3",
   "version": "3.7.2"
  }
 },
 "nbformat": 4,
 "nbformat_minor": 2
}
