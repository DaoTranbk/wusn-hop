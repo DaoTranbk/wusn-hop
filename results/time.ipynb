{
 "cells": [
  {
   "cell_type": "code",
   "execution_count": 2,
   "metadata": {},
   "outputs": [],
   "source": [
    "import os\n",
    "import numpy as np"
   ]
  },
  {
   "cell_type": "code",
   "execution_count": 3,
   "metadata": {},
   "outputs": [],
   "source": [
    "os.chdir('results-11-09')"
   ]
  },
  {
   "cell_type": "code",
   "execution_count": 4,
   "metadata": {},
   "outputs": [],
   "source": [
    "results = {}\n",
    "\n",
    "for fn in os.listdir('hop'):\n",
    "    with open(os.path.join('hop', fn)) as f:\n",
    "        lines = [tmp.replace('\\n', '') for tmp in f.readlines()]\n",
    "        hop_file = lines[0]\n",
    "        start = int(lines[1].split(' ')[-1])\n",
    "        end = int(lines[-2].split(' ')[-1])\n",
    "        if hop_file in results.keys():\n",
    "            results[hop_file].append(end-start)\n",
    "        else:\n",
    "            results[hop_file] = [end-start]\n",
    "        \n",
    "for fn in os.listdir('layer'):\n",
    "    with open(os.path.join('layer', fn)) as f:\n",
    "        lines = [tmp.replace('\\n', '') for tmp in f.readlines()]\n",
    "        hop_file = lines[0]\n",
    "        start = int(lines[1].split(' ')[-1])\n",
    "        end = int(lines[-2].split(' ')[-1])\n",
    "        if hop_file in results.keys():\n",
    "            results[hop_file].append(end-start)\n",
    "        else:\n",
    "            results[hop_file] = [end-start]"
   ]
  },
  {
   "cell_type": "code",
   "execution_count": 13,
   "metadata": {},
   "outputs": [],
   "source": [
    "results2 = {}\n",
    "\n",
    "for fn in os.listdir('mfea11'):\n",
    "    with open(os.path.join('mfea11', fn)) as f:\n",
    "        lines = [tmp.replace('\\n', '') for tmp in f.readlines()]\n",
    "        tasks = lines[0]\n",
    "        start = int(lines[1].split(' ')[-1])\n",
    "        end = int(lines[-3].split(' ')[-1])\n",
    "        for task in tasks.split(' '):\n",
    "            if hop_file in results2.keys():\n",
    "                results2[task].append(end-start)\n",
    "            else:\n",
    "                results2[task] = [end-start]"
   ]
  },
  {
   "cell_type": "code",
   "execution_count": null,
   "metadata": {},
   "outputs": [],
   "source": [
    "results31 = {}\n",
    "results13 = {}\n",
    "for fn in os.listdir('mfea4'):\n",
    "    with open(os.path.join('mfea4', fn)) as f:\n",
    "        lines = [tmp.replace('\\n', '') for tmp in f.readlines()]\n",
    "        tasks = [tmp.split('/')[-1].replace(\"'\", '').replace(']', '').replace('[', '').replace(',', '') for tmp in lines[0].split(' ')]\n",
    "        start = int(lines[1].split(' ')[-1])\n",
    "        end = int(lines[-5].split(' ')[-1])\n",
    "        \n",
    "        if sum([len(tmp.split('_')) for tmp in tasks]) == 13:\n",
    "            for task in tasks:\n",
    "                if hop_file in results13.keys():\n",
    "                    results13[task].append(end-start)\n",
    "                else:\n",
    "                    results13[task] = [end-start]\n",
    "        else:\n",
    "            for task in tasks:\n",
    "                if hop_file in results31.keys():\n",
    "                    results31[task].append(end-start)\n",
    "                else:\n",
    "                    results31[task] = [end-start]"
   ]
  },
  {
   "cell_type": "code",
   "execution_count": 7,
   "metadata": {},
   "outputs": [
    {
     "ename": "KeyError",
     "evalue": "'no-dem10_r25_1_0.json'",
     "output_type": "error",
     "traceback": [
      "\u001b[0;31m-------------------------------------------------------------------------\u001b[0m",
      "\u001b[0;31mKeyError\u001b[0m                                Traceback (most recent call last)",
      "\u001b[0;32m<ipython-input-7-6e134205fec7>\u001b[0m in \u001b[0;36m<module>\u001b[0;34m\u001b[0m\n\u001b[1;32m      9\u001b[0m         \u001b[0;32mfor\u001b[0m \u001b[0mtask\u001b[0m \u001b[0;32min\u001b[0m \u001b[0mtasks\u001b[0m\u001b[0;34m:\u001b[0m\u001b[0;34m\u001b[0m\u001b[0;34m\u001b[0m\u001b[0m\n\u001b[1;32m     10\u001b[0m             \u001b[0;32mif\u001b[0m \u001b[0mhop_file\u001b[0m \u001b[0;32min\u001b[0m \u001b[0mresults6\u001b[0m\u001b[0;34m.\u001b[0m\u001b[0mkeys\u001b[0m\u001b[0;34m(\u001b[0m\u001b[0;34m)\u001b[0m\u001b[0;34m:\u001b[0m\u001b[0;34m\u001b[0m\u001b[0;34m\u001b[0m\u001b[0m\n\u001b[0;32m---> 11\u001b[0;31m                 \u001b[0mresults6\u001b[0m\u001b[0;34m[\u001b[0m\u001b[0mtask\u001b[0m\u001b[0;34m]\u001b[0m\u001b[0;34m.\u001b[0m\u001b[0mappend\u001b[0m\u001b[0;34m(\u001b[0m\u001b[0mend\u001b[0m\u001b[0;34m-\u001b[0m\u001b[0mstart\u001b[0m\u001b[0;34m)\u001b[0m\u001b[0;34m\u001b[0m\u001b[0;34m\u001b[0m\u001b[0m\n\u001b[0m\u001b[1;32m     12\u001b[0m             \u001b[0;32melse\u001b[0m\u001b[0;34m:\u001b[0m\u001b[0;34m\u001b[0m\u001b[0;34m\u001b[0m\u001b[0m\n\u001b[1;32m     13\u001b[0m                 \u001b[0mresults6\u001b[0m\u001b[0;34m[\u001b[0m\u001b[0mtask\u001b[0m\u001b[0;34m]\u001b[0m \u001b[0;34m=\u001b[0m \u001b[0;34m[\u001b[0m\u001b[0mend\u001b[0m\u001b[0;34m-\u001b[0m\u001b[0mstart\u001b[0m\u001b[0;34m]\u001b[0m\u001b[0;34m\u001b[0m\u001b[0;34m\u001b[0m\u001b[0m\n",
      "\u001b[0;31mKeyError\u001b[0m: 'no-dem10_r25_1_0.json'"
     ]
    }
   ],
   "source": [
    "results6 = {}\n",
    "\n",
    "for fn in os.listdir('mfea33'):\n",
    "    with open(os.path.join('mfea33', fn)) as f:\n",
    "        lines = [tmp.replace('\\n', '') for tmp in f.readlines()]\n",
    "        tasks = [tmp.split('/')[-1].replace(\"'\", '').replace(']', '').replace('[', '').replace(',', '') for tmp in lines[0].split(' ')]\n",
    "        start = int(lines[1].split(' ')[-1])\n",
    "        end = int(lines[-7].split(' ')[-1])\n",
    "        for task in tasks:\n",
    "            if hop_file in results6.keys():\n",
    "                results6[task].append(end-start)\n",
    "            else:\n",
    "                results6[task] = [end-start]"
   ]
  },
  {
   "cell_type": "code",
   "execution_count": 8,
   "metadata": {},
   "outputs": [],
   "source": [
    "ds = {}\n",
    "for i in results6.keys():\n",
    "    if 'uu' in i and 'r50' in i and len(i.split('_')) == 3:\n",
    "        hop_equivalent = i.replace('.json', '_0.json')\n",
    "        print(i, hop_equivalent)\n",
    "        if 'sts' in ds.keys():\n",
    "            ds['sts'].append(np.mean(results[i]))\n",
    "        else: \n",
    "            ds['sts'] = [np.mean(results[i])]\n",
    "            \n",
    "        if 'stm' in ds.keys():\n",
    "            ds['stm'].append(np.mean(results[hop_equivalent]))\n",
    "        else:\n",
    "            ds['stm'] = [np.mean(results[hop_equivalent])]\n",
    "        \n",
    "        if 'mt11' in ds.keys():\n",
    "            ds['mt11'] += [np.mean(results2[hop_equivalent]), np.mean(results2[i])]\n",
    "        else:\n",
    "            ds['mt11'] = [np.mean(results2[hop_equivalent]), np.mean(results2[i])]\n",
    "            \n",
    "        if 'mt13' in ds.keys():\n",
    "            ds['mt13'] += [np.mean(results13[hop_equivalent]), np.mean(results13[i])]\n",
    "        else:\n",
    "            ds['mt13'] = [np.mean(results13[hop_equivalent]), np.mean(results13[i])]\n",
    "            \n",
    "        if 'mt31' in ds.keys():\n",
    "            ds['mt31'] += [np.mean(results31[hop_equivalent]), np.mean(results31[i])]\n",
    "        else:\n",
    "            ds['mt31'] = [np.mean(results31[hop_equivalent]), np.mean(results31[i])]\n",
    "            \n",
    "        if 'mt33' in ds.keys():\n",
    "            ds['mt33'] += [np.mean(results6[hop_equivalent]), np.mean(results6[i])]\n",
    "        else:\n",
    "            ds['mt33'] = [np.mean(results6[hop_equivalent]), np.mean(results6[i])]            "
   ]
  },
  {
   "cell_type": "code",
   "execution_count": 9,
   "metadata": {},
   "outputs": [],
   "source": [
    "for k in ds.keys():\n",
    "    print(k, np.mean(ds[k]))"
   ]
  },
  {
   "cell_type": "code",
   "execution_count": 10,
   "metadata": {},
   "outputs": [
    {
     "ename": "SyntaxError",
     "evalue": "invalid syntax (<ipython-input-10-483611a97f15>, line 1)",
     "output_type": "error",
     "traceback": [
      "\u001b[0;36m  File \u001b[0;32m\"<ipython-input-10-483611a97f15>\"\u001b[0;36m, line \u001b[0;32m1\u001b[0m\n\u001b[0;31m    102.85 206.15 480.75 689.55 953.0 1048.45\u001b[0m\n\u001b[0m                ^\u001b[0m\n\u001b[0;31mSyntaxError\u001b[0m\u001b[0;31m:\u001b[0m invalid syntax\n"
     ]
    }
   ],
   "source": [
    "102.85 206.15 480.75 689.55 953.0 1048.45\n",
    "102.41 174.52 455.55 651.45 797.85 940.7\n",
    "98.0 173.57 421.85 600.15 749.95 853.0\n",
    "106.15 179.08 407.2 599.2 701.45 910.5\n",
    "- 289.49 - 470.0 776.2 828.2"
   ]
  },
  {
   "cell_type": "code",
   "execution_count": 11,
   "metadata": {},
   "outputs": [],
   "source": [
    "ds = {}\n",
    "for i in results6.keys():\n",
    "    if 'uu' in i and 'r25' in i and len(i.split('_')) == 3:\n",
    "        hop_equivalent = i.replace('.json', '_40.json')\n",
    "        print(i, hop_equivalent)\n",
    "            \n",
    "        if 'stm' in ds.keys():\n",
    "            ds['stm'].append(np.mean(results[hop_equivalent]))\n",
    "        else:\n",
    "            ds['stm'] = [np.mean(results[hop_equivalent])]\n",
    "        \n",
    "        if 'mt11' in ds.keys():\n",
    "            ds['mt11'] += [np.mean(results2[hop_equivalent])]\n",
    "        else:\n",
    "            ds['mt11'] = [np.mean(results2[hop_equivalent])]\n",
    "            \n",
    "        if 'mt31' in ds.keys():\n",
    "            ds['mt31'] += [np.mean(results31[hop_equivalent])]\n",
    "        else:\n",
    "            ds['mt31'] = [np.mean(results31[hop_equivalent])]\n",
    "            \n",
    "        if 'mt33' in ds.keys():\n",
    "            ds['mt33'] += [np.mean(results6[hop_equivalent])]\n",
    "        else:\n",
    "            ds['mt33'] = [np.mean(results6[hop_equivalent])]            "
   ]
  },
  {
   "cell_type": "code",
   "execution_count": 12,
   "metadata": {},
   "outputs": [],
   "source": [
    "for k in ds.keys():\n",
    "    print(k, np.mean(ds[k]))"
   ]
  },
  {
   "cell_type": "code",
   "execution_count": null,
   "metadata": {},
   "outputs": [],
   "source": []
  }
 ],
 "metadata": {
  "kernelspec": {
   "display_name": "Python 3",
   "language": "python",
   "name": "python3"
  },
  "language_info": {
   "codemirror_mode": {
    "name": "ipython",
    "version": 3
   },
   "file_extension": ".py",
   "mimetype": "text/x-python",
   "name": "python",
   "nbconvert_exporter": "python",
   "pygments_lexer": "ipython3",
   "version": "3.7.2"
  }
 },
 "nbformat": 4,
 "nbformat_minor": 2
}
