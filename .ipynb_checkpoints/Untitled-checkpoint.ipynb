{
 "cells": [
  {
   "cell_type": "code",
   "execution_count": 7,
   "metadata": {},
   "outputs": [],
   "source": [
    "from constructor.nrk import Nrk\n",
    "from utils.input import WusnInput\n",
    "import numpy as np"
   ]
  },
  {
   "cell_type": "code",
   "execution_count": 8,
   "metadata": {},
   "outputs": [],
   "source": [
    "max_relays = 14\n",
    "max_hops = 6\n",
    "inp = WusnInput.from_file('data/hop/ga-dem7_r25_1_40.json')\n",
    "is_hop = True\n",
    "constructor = Nrk(inp, max_relays, max_hops, is_hop=is_hop)"
   ]
  },
  {
   "cell_type": "code",
   "execution_count": 10,
   "metadata": {},
   "outputs": [],
   "source": [
    "def init_individual(num_of_relays, num_of_sensors):\n",
    "    length = 2 * (num_of_sensors + num_of_relays + 1)\n",
    "\n",
    "    individual = list(np.random.uniform(0, 1, size=(length,)))\n",
    "\n",
    "    return individual\n",
    "\n",
    "individual = init_individual(inp.num_of_relays, inp.num_of_sensors)"
   ]
  },
  {
   "cell_type": "code",
   "execution_count": 17,
   "metadata": {},
   "outputs": [
    {
     "data": {
      "text/plain": [
       "inf"
      ]
     },
     "execution_count": 17,
     "metadata": {},
     "output_type": "execute_result"
    }
   ],
   "source": [
    "while True:\n",
    "    indiv = init_individual(inp.num_of_relays, inp.num_of_sensors)\n",
    "    "
   ]
  },
  {
   "cell_type": "code",
   "execution_count": 13,
   "metadata": {},
   "outputs": [],
   "source": [
    "edges = constructor._edges"
   ]
  },
  {
   "cell_type": "code",
   "execution_count": 16,
   "metadata": {},
   "outputs": [
    {
     "name": "stdout",
     "output_type": "stream",
     "text": [
      "121\n",
      "8\n",
      "48\n",
      "3\n",
      "62\n",
      "60\n",
      "61\n",
      "16\n",
      "45\n",
      "57\n",
      "49\n",
      "34\n",
      "32\n",
      "51\n",
      "51\n",
      "55\n",
      "35\n",
      "56\n",
      "28\n",
      "28\n",
      "59\n",
      "13\n",
      "12\n",
      "34\n",
      "53\n",
      "53\n",
      "62\n",
      "8\n",
      "53\n",
      "54\n",
      "60\n",
      "41\n",
      "64\n",
      "53\n",
      "61\n",
      "16\n",
      "26\n",
      "60\n",
      "37\n",
      "51\n",
      "37\n",
      "20\n",
      "6\n",
      "8\n",
      "18\n",
      "2\n",
      "18\n",
      "10\n",
      "20\n",
      "16\n",
      "20\n",
      "34\n",
      "22\n",
      "16\n",
      "20\n",
      "14\n",
      "20\n",
      "16\n",
      "14\n",
      "6\n",
      "18\n",
      "2\n",
      "18\n",
      "10\n",
      "16\n",
      "20\n",
      "16\n",
      "16\n",
      "12\n",
      "8\n",
      "14\n",
      "6\n",
      "12\n",
      "8\n",
      "20\n",
      "10\n",
      "4\n",
      "16\n",
      "8\n",
      "10\n",
      "40\n"
     ]
    }
   ],
   "source": [
    "print(len(edges))\n",
    "for i in edges[1+40:]:\n",
    "    print(len(i))"
   ]
  },
  {
   "cell_type": "code",
   "execution_count": null,
   "metadata": {},
   "outputs": [],
   "source": []
  }
 ],
 "metadata": {
  "kernelspec": {
   "display_name": "Python 3",
   "language": "python",
   "name": "python3"
  },
  "language_info": {
   "codemirror_mode": {
    "name": "ipython",
    "version": 3
   },
   "file_extension": ".py",
   "mimetype": "text/x-python",
   "name": "python",
   "nbconvert_exporter": "python",
   "pygments_lexer": "ipython3",
   "version": "3.7.2"
  }
 },
 "nbformat": 4,
 "nbformat_minor": 2
}
